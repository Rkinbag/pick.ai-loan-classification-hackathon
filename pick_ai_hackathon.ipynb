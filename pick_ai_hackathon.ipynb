{
  "nbformat": 4,
  "nbformat_minor": 0,
  "metadata": {
    "colab": {
      "provenance": [],
      "authorship_tag": "ABX9TyONz0yCfo53JykRmvxjlzRH",
      "include_colab_link": true
    },
    "kernelspec": {
      "name": "python3",
      "display_name": "Python 3"
    },
    "language_info": {
      "name": "python"
    }
  },
  "cells": [
    {
      "cell_type": "markdown",
      "metadata": {
        "id": "view-in-github",
        "colab_type": "text"
      },
      "source": [
        "<a href=\"https://colab.research.google.com/github/Rkinbag/pick.ai-loan-classification-hackathon/blob/main/pick_ai_hackathon.ipynb\" target=\"_parent\"><img src=\"https://colab.research.google.com/assets/colab-badge.svg\" alt=\"Open In Colab\"/></a>"
      ]
    },
    {
      "cell_type": "markdown",
      "source": [
        "# **Rahul kiroriwal Team(Andrew Paji) Submission**"
      ],
      "metadata": {
        "id": "YegzB14K5T1S"
      }
    },
    {
      "cell_type": "markdown",
      "source": [
        "**Importing Libraries**"
      ],
      "metadata": {
        "id": "U6n2LjYM5naP"
      }
    },
    {
      "cell_type": "code",
      "execution_count": 14,
      "metadata": {
        "id": "MxMyrAq2_HY7"
      },
      "outputs": [],
      "source": [
        "import numpy as np \n",
        "import pandas as pd \n",
        "import seaborn as sns \n",
        "import matplotlib.ticker as mtick  \n",
        "import matplotlib.pyplot as plt\n",
        "%matplotlib inline"
      ]
    },
    {
      "cell_type": "code",
      "source": [
        "from sklearn.model_selection import StratifiedKFold\n",
        "import matplotlib.patches as patches\n",
        "import matplotlib.pylab as plt\n",
        "from scipy import interp\n",
        "from sklearn.metrics import roc_curve,auc\n"
      ],
      "metadata": {
        "id": "_B2FAT06fAtj"
      },
      "execution_count": 15,
      "outputs": []
    },
    {
      "cell_type": "markdown",
      "source": [
        "**Impoting dataset**"
      ],
      "metadata": {
        "id": "z4NCqn3554qW"
      }
    },
    {
      "cell_type": "code",
      "source": [
        "data=pd.read_csv('/content/636dfd50f20b6_loan_dataset__1_.csv')"
      ],
      "metadata": {
        "id": "HoJ-GIpf_dTd"
      },
      "execution_count": 16,
      "outputs": []
    },
    {
      "cell_type": "markdown",
      "source": [
        "Droping columns ID and pincode, as they are not correlated with our label"
      ],
      "metadata": {
        "id": "NnnkMxHQ5_JU"
      }
    },
    {
      "cell_type": "code",
      "source": [
        "data.drop(data.columns[[0, 1, 2]], axis=1, inplace=True)\n",
        "  "
      ],
      "metadata": {
        "id": "AYp_ys9qADzR"
      },
      "execution_count": 17,
      "outputs": []
    },
    {
      "cell_type": "code",
      "source": [
        "data"
      ],
      "metadata": {
        "colab": {
          "base_uri": "https://localhost:8080/",
          "height": 423
        },
        "id": "p30DQZbpAQiw",
        "outputId": "7a376281-de40-4516-a789-321ed31bf68e"
      },
      "execution_count": 18,
      "outputs": [
        {
          "output_type": "execute_result",
          "data": {
            "text/plain": [
              "      age  Fam members       Education  T.Experience  Income  Mortgage  \\\n",
              "0      23          4.0  Under Graduate           1.0  392000         0   \n",
              "1      43          3.0  Under Graduate          19.0  272000         0   \n",
              "2      37          1.0  Under Graduate          15.0   88000         0   \n",
              "3      33          1.0        Graduate           9.0  800000         0   \n",
              "4      33          4.0        Graduate           8.0  360000         0   \n",
              "...   ...          ...             ...           ...     ...       ...   \n",
              "4995   27          1.0   Post Graduate           3.0  320000         0   \n",
              "4996   28          4.0  Under Graduate           4.0  120000    680000   \n",
              "4997   61          2.0   Post Graduate          39.0  192000         0   \n",
              "4998   63          3.0        Graduate          40.0  392000         0   \n",
              "4999   26          3.0  Under Graduate           4.0  664000         0   \n",
              "\n",
              "     Fixed Deposit Demat Net Banking Loan  \n",
              "0               no   yes          no   no  \n",
              "1               no   yes          no   no  \n",
              "2               no    no          no   no  \n",
              "3               no    no          no   no  \n",
              "4               no    no          no   no  \n",
              "...            ...   ...         ...  ...  \n",
              "4995            no    no         yes   no  \n",
              "4996            no    no         yes   no  \n",
              "4997            no    no          no   no  \n",
              "4998            no    no         yes   no  \n",
              "4999            no    no         yes   no  \n",
              "\n",
              "[5000 rows x 10 columns]"
            ],
            "text/html": [
              "\n",
              "  <div id=\"df-1c56fb85-5363-4dda-a626-d43790e39c04\">\n",
              "    <div class=\"colab-df-container\">\n",
              "      <div>\n",
              "<style scoped>\n",
              "    .dataframe tbody tr th:only-of-type {\n",
              "        vertical-align: middle;\n",
              "    }\n",
              "\n",
              "    .dataframe tbody tr th {\n",
              "        vertical-align: top;\n",
              "    }\n",
              "\n",
              "    .dataframe thead th {\n",
              "        text-align: right;\n",
              "    }\n",
              "</style>\n",
              "<table border=\"1\" class=\"dataframe\">\n",
              "  <thead>\n",
              "    <tr style=\"text-align: right;\">\n",
              "      <th></th>\n",
              "      <th>age</th>\n",
              "      <th>Fam members</th>\n",
              "      <th>Education</th>\n",
              "      <th>T.Experience</th>\n",
              "      <th>Income</th>\n",
              "      <th>Mortgage</th>\n",
              "      <th>Fixed Deposit</th>\n",
              "      <th>Demat</th>\n",
              "      <th>Net Banking</th>\n",
              "      <th>Loan</th>\n",
              "    </tr>\n",
              "  </thead>\n",
              "  <tbody>\n",
              "    <tr>\n",
              "      <th>0</th>\n",
              "      <td>23</td>\n",
              "      <td>4.0</td>\n",
              "      <td>Under Graduate</td>\n",
              "      <td>1.0</td>\n",
              "      <td>392000</td>\n",
              "      <td>0</td>\n",
              "      <td>no</td>\n",
              "      <td>yes</td>\n",
              "      <td>no</td>\n",
              "      <td>no</td>\n",
              "    </tr>\n",
              "    <tr>\n",
              "      <th>1</th>\n",
              "      <td>43</td>\n",
              "      <td>3.0</td>\n",
              "      <td>Under Graduate</td>\n",
              "      <td>19.0</td>\n",
              "      <td>272000</td>\n",
              "      <td>0</td>\n",
              "      <td>no</td>\n",
              "      <td>yes</td>\n",
              "      <td>no</td>\n",
              "      <td>no</td>\n",
              "    </tr>\n",
              "    <tr>\n",
              "      <th>2</th>\n",
              "      <td>37</td>\n",
              "      <td>1.0</td>\n",
              "      <td>Under Graduate</td>\n",
              "      <td>15.0</td>\n",
              "      <td>88000</td>\n",
              "      <td>0</td>\n",
              "      <td>no</td>\n",
              "      <td>no</td>\n",
              "      <td>no</td>\n",
              "      <td>no</td>\n",
              "    </tr>\n",
              "    <tr>\n",
              "      <th>3</th>\n",
              "      <td>33</td>\n",
              "      <td>1.0</td>\n",
              "      <td>Graduate</td>\n",
              "      <td>9.0</td>\n",
              "      <td>800000</td>\n",
              "      <td>0</td>\n",
              "      <td>no</td>\n",
              "      <td>no</td>\n",
              "      <td>no</td>\n",
              "      <td>no</td>\n",
              "    </tr>\n",
              "    <tr>\n",
              "      <th>4</th>\n",
              "      <td>33</td>\n",
              "      <td>4.0</td>\n",
              "      <td>Graduate</td>\n",
              "      <td>8.0</td>\n",
              "      <td>360000</td>\n",
              "      <td>0</td>\n",
              "      <td>no</td>\n",
              "      <td>no</td>\n",
              "      <td>no</td>\n",
              "      <td>no</td>\n",
              "    </tr>\n",
              "    <tr>\n",
              "      <th>...</th>\n",
              "      <td>...</td>\n",
              "      <td>...</td>\n",
              "      <td>...</td>\n",
              "      <td>...</td>\n",
              "      <td>...</td>\n",
              "      <td>...</td>\n",
              "      <td>...</td>\n",
              "      <td>...</td>\n",
              "      <td>...</td>\n",
              "      <td>...</td>\n",
              "    </tr>\n",
              "    <tr>\n",
              "      <th>4995</th>\n",
              "      <td>27</td>\n",
              "      <td>1.0</td>\n",
              "      <td>Post Graduate</td>\n",
              "      <td>3.0</td>\n",
              "      <td>320000</td>\n",
              "      <td>0</td>\n",
              "      <td>no</td>\n",
              "      <td>no</td>\n",
              "      <td>yes</td>\n",
              "      <td>no</td>\n",
              "    </tr>\n",
              "    <tr>\n",
              "      <th>4996</th>\n",
              "      <td>28</td>\n",
              "      <td>4.0</td>\n",
              "      <td>Under Graduate</td>\n",
              "      <td>4.0</td>\n",
              "      <td>120000</td>\n",
              "      <td>680000</td>\n",
              "      <td>no</td>\n",
              "      <td>no</td>\n",
              "      <td>yes</td>\n",
              "      <td>no</td>\n",
              "    </tr>\n",
              "    <tr>\n",
              "      <th>4997</th>\n",
              "      <td>61</td>\n",
              "      <td>2.0</td>\n",
              "      <td>Post Graduate</td>\n",
              "      <td>39.0</td>\n",
              "      <td>192000</td>\n",
              "      <td>0</td>\n",
              "      <td>no</td>\n",
              "      <td>no</td>\n",
              "      <td>no</td>\n",
              "      <td>no</td>\n",
              "    </tr>\n",
              "    <tr>\n",
              "      <th>4998</th>\n",
              "      <td>63</td>\n",
              "      <td>3.0</td>\n",
              "      <td>Graduate</td>\n",
              "      <td>40.0</td>\n",
              "      <td>392000</td>\n",
              "      <td>0</td>\n",
              "      <td>no</td>\n",
              "      <td>no</td>\n",
              "      <td>yes</td>\n",
              "      <td>no</td>\n",
              "    </tr>\n",
              "    <tr>\n",
              "      <th>4999</th>\n",
              "      <td>26</td>\n",
              "      <td>3.0</td>\n",
              "      <td>Under Graduate</td>\n",
              "      <td>4.0</td>\n",
              "      <td>664000</td>\n",
              "      <td>0</td>\n",
              "      <td>no</td>\n",
              "      <td>no</td>\n",
              "      <td>yes</td>\n",
              "      <td>no</td>\n",
              "    </tr>\n",
              "  </tbody>\n",
              "</table>\n",
              "<p>5000 rows × 10 columns</p>\n",
              "</div>\n",
              "      <button class=\"colab-df-convert\" onclick=\"convertToInteractive('df-1c56fb85-5363-4dda-a626-d43790e39c04')\"\n",
              "              title=\"Convert this dataframe to an interactive table.\"\n",
              "              style=\"display:none;\">\n",
              "        \n",
              "  <svg xmlns=\"http://www.w3.org/2000/svg\" height=\"24px\"viewBox=\"0 0 24 24\"\n",
              "       width=\"24px\">\n",
              "    <path d=\"M0 0h24v24H0V0z\" fill=\"none\"/>\n",
              "    <path d=\"M18.56 5.44l.94 2.06.94-2.06 2.06-.94-2.06-.94-.94-2.06-.94 2.06-2.06.94zm-11 1L8.5 8.5l.94-2.06 2.06-.94-2.06-.94L8.5 2.5l-.94 2.06-2.06.94zm10 10l.94 2.06.94-2.06 2.06-.94-2.06-.94-.94-2.06-.94 2.06-2.06.94z\"/><path d=\"M17.41 7.96l-1.37-1.37c-.4-.4-.92-.59-1.43-.59-.52 0-1.04.2-1.43.59L10.3 9.45l-7.72 7.72c-.78.78-.78 2.05 0 2.83L4 21.41c.39.39.9.59 1.41.59.51 0 1.02-.2 1.41-.59l7.78-7.78 2.81-2.81c.8-.78.8-2.07 0-2.86zM5.41 20L4 18.59l7.72-7.72 1.47 1.35L5.41 20z\"/>\n",
              "  </svg>\n",
              "      </button>\n",
              "      \n",
              "  <style>\n",
              "    .colab-df-container {\n",
              "      display:flex;\n",
              "      flex-wrap:wrap;\n",
              "      gap: 12px;\n",
              "    }\n",
              "\n",
              "    .colab-df-convert {\n",
              "      background-color: #E8F0FE;\n",
              "      border: none;\n",
              "      border-radius: 50%;\n",
              "      cursor: pointer;\n",
              "      display: none;\n",
              "      fill: #1967D2;\n",
              "      height: 32px;\n",
              "      padding: 0 0 0 0;\n",
              "      width: 32px;\n",
              "    }\n",
              "\n",
              "    .colab-df-convert:hover {\n",
              "      background-color: #E2EBFA;\n",
              "      box-shadow: 0px 1px 2px rgba(60, 64, 67, 0.3), 0px 1px 3px 1px rgba(60, 64, 67, 0.15);\n",
              "      fill: #174EA6;\n",
              "    }\n",
              "\n",
              "    [theme=dark] .colab-df-convert {\n",
              "      background-color: #3B4455;\n",
              "      fill: #D2E3FC;\n",
              "    }\n",
              "\n",
              "    [theme=dark] .colab-df-convert:hover {\n",
              "      background-color: #434B5C;\n",
              "      box-shadow: 0px 1px 3px 1px rgba(0, 0, 0, 0.15);\n",
              "      filter: drop-shadow(0px 1px 2px rgba(0, 0, 0, 0.3));\n",
              "      fill: #FFFFFF;\n",
              "    }\n",
              "  </style>\n",
              "\n",
              "      <script>\n",
              "        const buttonEl =\n",
              "          document.querySelector('#df-1c56fb85-5363-4dda-a626-d43790e39c04 button.colab-df-convert');\n",
              "        buttonEl.style.display =\n",
              "          google.colab.kernel.accessAllowed ? 'block' : 'none';\n",
              "\n",
              "        async function convertToInteractive(key) {\n",
              "          const element = document.querySelector('#df-1c56fb85-5363-4dda-a626-d43790e39c04');\n",
              "          const dataTable =\n",
              "            await google.colab.kernel.invokeFunction('convertToInteractive',\n",
              "                                                     [key], {});\n",
              "          if (!dataTable) return;\n",
              "\n",
              "          const docLinkHtml = 'Like what you see? Visit the ' +\n",
              "            '<a target=\"_blank\" href=https://colab.research.google.com/notebooks/data_table.ipynb>data table notebook</a>'\n",
              "            + ' to learn more about interactive tables.';\n",
              "          element.innerHTML = '';\n",
              "          dataTable['output_type'] = 'display_data';\n",
              "          await google.colab.output.renderOutput(dataTable, element);\n",
              "          const docLink = document.createElement('div');\n",
              "          docLink.innerHTML = docLinkHtml;\n",
              "          element.appendChild(docLink);\n",
              "        }\n",
              "      </script>\n",
              "    </div>\n",
              "  </div>\n",
              "  "
            ]
          },
          "metadata": {},
          "execution_count": 18
        }
      ]
    },
    {
      "cell_type": "code",
      "source": [
        "data.describe()\n"
      ],
      "metadata": {
        "colab": {
          "base_uri": "https://localhost:8080/",
          "height": 300
        },
        "id": "dyKNr9pbAj3m",
        "outputId": "e45e4683-559a-411f-e222-5958f458d63b"
      },
      "execution_count": 19,
      "outputs": [
        {
          "output_type": "execute_result",
          "data": {
            "text/plain": [
              "               age  Fam members  T.Experience        Income      Mortgage\n",
              "count  5000.000000  5000.000000   5000.000000  5.000000e+03  5.000000e+03\n",
              "mean     43.338400     2.396400     20.104600  5.901936e+05  4.519904e+05\n",
              "std      11.463166     1.147663     11.467954  3.682698e+05  8.137104e+05\n",
              "min      21.000000     1.000000     -3.000000  6.400000e+04  0.000000e+00\n",
              "25%      33.000000     1.000000     10.000000  3.120000e+05  0.000000e+00\n",
              "50%      43.000000     2.000000     20.000000  5.120000e+05  0.000000e+00\n",
              "75%      53.000000     3.000000     30.000000  7.840000e+05  8.080000e+05\n",
              "max      65.000000     4.000000     43.000000  1.792000e+06  5.080000e+06"
            ],
            "text/html": [
              "\n",
              "  <div id=\"df-a72fa709-f311-4de8-9be6-a138fb1c0272\">\n",
              "    <div class=\"colab-df-container\">\n",
              "      <div>\n",
              "<style scoped>\n",
              "    .dataframe tbody tr th:only-of-type {\n",
              "        vertical-align: middle;\n",
              "    }\n",
              "\n",
              "    .dataframe tbody tr th {\n",
              "        vertical-align: top;\n",
              "    }\n",
              "\n",
              "    .dataframe thead th {\n",
              "        text-align: right;\n",
              "    }\n",
              "</style>\n",
              "<table border=\"1\" class=\"dataframe\">\n",
              "  <thead>\n",
              "    <tr style=\"text-align: right;\">\n",
              "      <th></th>\n",
              "      <th>age</th>\n",
              "      <th>Fam members</th>\n",
              "      <th>T.Experience</th>\n",
              "      <th>Income</th>\n",
              "      <th>Mortgage</th>\n",
              "    </tr>\n",
              "  </thead>\n",
              "  <tbody>\n",
              "    <tr>\n",
              "      <th>count</th>\n",
              "      <td>5000.000000</td>\n",
              "      <td>5000.000000</td>\n",
              "      <td>5000.000000</td>\n",
              "      <td>5.000000e+03</td>\n",
              "      <td>5.000000e+03</td>\n",
              "    </tr>\n",
              "    <tr>\n",
              "      <th>mean</th>\n",
              "      <td>43.338400</td>\n",
              "      <td>2.396400</td>\n",
              "      <td>20.104600</td>\n",
              "      <td>5.901936e+05</td>\n",
              "      <td>4.519904e+05</td>\n",
              "    </tr>\n",
              "    <tr>\n",
              "      <th>std</th>\n",
              "      <td>11.463166</td>\n",
              "      <td>1.147663</td>\n",
              "      <td>11.467954</td>\n",
              "      <td>3.682698e+05</td>\n",
              "      <td>8.137104e+05</td>\n",
              "    </tr>\n",
              "    <tr>\n",
              "      <th>min</th>\n",
              "      <td>21.000000</td>\n",
              "      <td>1.000000</td>\n",
              "      <td>-3.000000</td>\n",
              "      <td>6.400000e+04</td>\n",
              "      <td>0.000000e+00</td>\n",
              "    </tr>\n",
              "    <tr>\n",
              "      <th>25%</th>\n",
              "      <td>33.000000</td>\n",
              "      <td>1.000000</td>\n",
              "      <td>10.000000</td>\n",
              "      <td>3.120000e+05</td>\n",
              "      <td>0.000000e+00</td>\n",
              "    </tr>\n",
              "    <tr>\n",
              "      <th>50%</th>\n",
              "      <td>43.000000</td>\n",
              "      <td>2.000000</td>\n",
              "      <td>20.000000</td>\n",
              "      <td>5.120000e+05</td>\n",
              "      <td>0.000000e+00</td>\n",
              "    </tr>\n",
              "    <tr>\n",
              "      <th>75%</th>\n",
              "      <td>53.000000</td>\n",
              "      <td>3.000000</td>\n",
              "      <td>30.000000</td>\n",
              "      <td>7.840000e+05</td>\n",
              "      <td>8.080000e+05</td>\n",
              "    </tr>\n",
              "    <tr>\n",
              "      <th>max</th>\n",
              "      <td>65.000000</td>\n",
              "      <td>4.000000</td>\n",
              "      <td>43.000000</td>\n",
              "      <td>1.792000e+06</td>\n",
              "      <td>5.080000e+06</td>\n",
              "    </tr>\n",
              "  </tbody>\n",
              "</table>\n",
              "</div>\n",
              "      <button class=\"colab-df-convert\" onclick=\"convertToInteractive('df-a72fa709-f311-4de8-9be6-a138fb1c0272')\"\n",
              "              title=\"Convert this dataframe to an interactive table.\"\n",
              "              style=\"display:none;\">\n",
              "        \n",
              "  <svg xmlns=\"http://www.w3.org/2000/svg\" height=\"24px\"viewBox=\"0 0 24 24\"\n",
              "       width=\"24px\">\n",
              "    <path d=\"M0 0h24v24H0V0z\" fill=\"none\"/>\n",
              "    <path d=\"M18.56 5.44l.94 2.06.94-2.06 2.06-.94-2.06-.94-.94-2.06-.94 2.06-2.06.94zm-11 1L8.5 8.5l.94-2.06 2.06-.94-2.06-.94L8.5 2.5l-.94 2.06-2.06.94zm10 10l.94 2.06.94-2.06 2.06-.94-2.06-.94-.94-2.06-.94 2.06-2.06.94z\"/><path d=\"M17.41 7.96l-1.37-1.37c-.4-.4-.92-.59-1.43-.59-.52 0-1.04.2-1.43.59L10.3 9.45l-7.72 7.72c-.78.78-.78 2.05 0 2.83L4 21.41c.39.39.9.59 1.41.59.51 0 1.02-.2 1.41-.59l7.78-7.78 2.81-2.81c.8-.78.8-2.07 0-2.86zM5.41 20L4 18.59l7.72-7.72 1.47 1.35L5.41 20z\"/>\n",
              "  </svg>\n",
              "      </button>\n",
              "      \n",
              "  <style>\n",
              "    .colab-df-container {\n",
              "      display:flex;\n",
              "      flex-wrap:wrap;\n",
              "      gap: 12px;\n",
              "    }\n",
              "\n",
              "    .colab-df-convert {\n",
              "      background-color: #E8F0FE;\n",
              "      border: none;\n",
              "      border-radius: 50%;\n",
              "      cursor: pointer;\n",
              "      display: none;\n",
              "      fill: #1967D2;\n",
              "      height: 32px;\n",
              "      padding: 0 0 0 0;\n",
              "      width: 32px;\n",
              "    }\n",
              "\n",
              "    .colab-df-convert:hover {\n",
              "      background-color: #E2EBFA;\n",
              "      box-shadow: 0px 1px 2px rgba(60, 64, 67, 0.3), 0px 1px 3px 1px rgba(60, 64, 67, 0.15);\n",
              "      fill: #174EA6;\n",
              "    }\n",
              "\n",
              "    [theme=dark] .colab-df-convert {\n",
              "      background-color: #3B4455;\n",
              "      fill: #D2E3FC;\n",
              "    }\n",
              "\n",
              "    [theme=dark] .colab-df-convert:hover {\n",
              "      background-color: #434B5C;\n",
              "      box-shadow: 0px 1px 3px 1px rgba(0, 0, 0, 0.15);\n",
              "      filter: drop-shadow(0px 1px 2px rgba(0, 0, 0, 0.3));\n",
              "      fill: #FFFFFF;\n",
              "    }\n",
              "  </style>\n",
              "\n",
              "      <script>\n",
              "        const buttonEl =\n",
              "          document.querySelector('#df-a72fa709-f311-4de8-9be6-a138fb1c0272 button.colab-df-convert');\n",
              "        buttonEl.style.display =\n",
              "          google.colab.kernel.accessAllowed ? 'block' : 'none';\n",
              "\n",
              "        async function convertToInteractive(key) {\n",
              "          const element = document.querySelector('#df-a72fa709-f311-4de8-9be6-a138fb1c0272');\n",
              "          const dataTable =\n",
              "            await google.colab.kernel.invokeFunction('convertToInteractive',\n",
              "                                                     [key], {});\n",
              "          if (!dataTable) return;\n",
              "\n",
              "          const docLinkHtml = 'Like what you see? Visit the ' +\n",
              "            '<a target=\"_blank\" href=https://colab.research.google.com/notebooks/data_table.ipynb>data table notebook</a>'\n",
              "            + ' to learn more about interactive tables.';\n",
              "          element.innerHTML = '';\n",
              "          dataTable['output_type'] = 'display_data';\n",
              "          await google.colab.output.renderOutput(dataTable, element);\n",
              "          const docLink = document.createElement('div');\n",
              "          docLink.innerHTML = docLinkHtml;\n",
              "          element.appendChild(docLink);\n",
              "        }\n",
              "      </script>\n",
              "    </div>\n",
              "  </div>\n",
              "  "
            ]
          },
          "metadata": {},
          "execution_count": 19
        }
      ]
    },
    {
      "cell_type": "markdown",
      "source": [
        "**IMPORTANT**\n",
        "Total experience has min value -3, which is negative which doesnt make sense so we have to later make some changes"
      ],
      "metadata": {
        "id": "5IuL2l4I622D"
      }
    },
    {
      "cell_type": "code",
      "source": [],
      "metadata": {
        "id": "WvM1IgANBeop"
      },
      "execution_count": 19,
      "outputs": []
    },
    {
      "cell_type": "code",
      "source": [
        "data['Loan'].value_counts().plot(kind='barh', figsize=(8, 6))\n",
        "plt.xlabel(\"Count\", labelpad=14)\n",
        "plt.ylabel(\"Target Variable\", labelpad=14)\n",
        "plt.title(\"Count of TARGET Variable per category\",y=1.02);"
      ],
      "metadata": {
        "colab": {
          "base_uri": "https://localhost:8080/",
          "height": 426
        },
        "id": "eKNHcV83BOmt",
        "outputId": "23e81345-47d8-4ae4-cb40-98d08f02c4ad"
      },
      "execution_count": 20,
      "outputs": [
        {
          "output_type": "display_data",
          "data": {
            "text/plain": [
              "<Figure size 576x432 with 1 Axes>"
            ],
            "image/png": "[encoded data removed]"
          },
          "metadata": {
            "needs_background": "light"
          }
        }
      ]
    },
    {
      "cell_type": "markdown",
      "source": [
        "**Our Dataset is highly imbalanced as the minority class has very few observation, we have to balance it later**"
      ],
      "metadata": {
        "id": "M2_JIx7q7N1c"
      }
    },
    {
      "cell_type": "code",
      "source": [
        "100*data['Loan'].value_counts()/len(data['Loan'])\n"
      ],
      "metadata": {
        "colab": {
          "base_uri": "https://localhost:8080/"
        },
        "id": "6FYBOGJQBo3n",
        "outputId": "fe3f8d15-3035-4aee-f42f-e2ed0b1d7968"
      },
      "execution_count": 21,
      "outputs": [
        {
          "output_type": "execute_result",
          "data": {
            "text/plain": [
              "no     90.4\n",
              "yes     9.6\n",
              "Name: Loan, dtype: float64"
            ]
          },
          "metadata": {},
          "execution_count": 21
        }
      ]
    },
    {
      "cell_type": "markdown",
      "source": [
        "As said earlier, distribution of examples across the known classes is biased.\n",
        "only 9.6% of total observation belong to class \"**yes**\"."
      ],
      "metadata": {
        "id": "2d_XwkoP7mID"
      }
    },
    {
      "cell_type": "code",
      "source": [
        "missing = pd.DataFrame((data.isnull().sum())*100/data.shape[0]).reset_index()\n",
        "plt.figure(figsize=(16,5))\n",
        "ax = sns.pointplot('index',0,data=missing)\n",
        "plt.xticks(rotation =90,fontsize =7)\n",
        "plt.title(\"Percentage of Missing values\")\n",
        "plt.ylabel(\"PERCENTAGE\")\n",
        "plt.show()"
      ],
      "metadata": {
        "colab": {
          "base_uri": "https://localhost:8080/",
          "height": 450
        },
        "id": "MihAQXoBCGwu",
        "outputId": "d83fd9dc-2a5a-492f-f2d5-3442d3dc6fbb"
      },
      "execution_count": 22,
      "outputs": [
        {
          "output_type": "stream",
          "name": "stderr",
          "text": [
            "/usr/local/lib/python3.7/dist-packages/seaborn/_decorators.py:43: FutureWarning: Pass the following variables as keyword args: x, y. From version 0.12, the only valid positional argument will be `data`, and passing other arguments without an explicit keyword will result in an error or misinterpretation.\n",
            "  FutureWarning\n"
          ]
        },
        {
          "output_type": "display_data",
          "data": {
            "text/plain": [
              "<Figure size 1152x360 with 1 Axes>"
            ],
            "image/png": "[encoded data removed]"
          },
          "metadata": {
            "needs_background": "light"
          }
        }
      ]
    },
    {
      "cell_type": "markdown",
      "source": [
        "**NO NULL VALUES**"
      ],
      "metadata": {
        "id": "kr63ANp583Lr"
      }
    },
    {
      "cell_type": "code",
      "source": [
        "data.dtypes"
      ],
      "metadata": {
        "colab": {
          "base_uri": "https://localhost:8080/"
        },
        "id": "y7MAgSJfCMb1",
        "outputId": "cd5ecf10-40bf-43d2-9e8a-f7201a53c0d2"
      },
      "execution_count": 23,
      "outputs": [
        {
          "output_type": "execute_result",
          "data": {
            "text/plain": [
              "age                int64\n",
              "Fam members      float64\n",
              "Education         object\n",
              "T.Experience     float64\n",
              "Income             int64\n",
              "Mortgage           int64\n",
              "Fixed Deposit     object\n",
              "Demat             object\n",
              "Net Banking       object\n",
              "Loan              object\n",
              "dtype: object"
            ]
          },
          "metadata": {},
          "execution_count": 23
        }
      ]
    },
    {
      "cell_type": "markdown",
      "source": [
        "Visualising categorical data "
      ],
      "metadata": {
        "id": "1YXT6fuV9GCO"
      }
    },
    {
      "cell_type": "code",
      "source": [
        "sns.set(rc={'figure.figsize':(11.7,8.27)})\n",
        "\n",
        "for i, predictor in enumerate(data.drop(columns=['Loan', 'Income', 'Mortgage'])):\n",
        "    plt.figure(i)\n",
        "    sns.countplot(data=data, x=predictor, hue='Loan')"
      ],
      "metadata": {
        "colab": {
          "base_uri": "https://localhost:8080/",
          "height": 1000
        },
        "id": "RfAm-7n1CW6Z",
        "outputId": "d659c54f-b9b4-4e0a-ab71-df21c6ca63ee"
      },
      "execution_count": 24,
      "outputs": [
        {
          "output_type": "display_data",
          "data": {
            "text/plain": [
              "<Figure size 842.4x595.44 with 1 Axes>"
            ],
            "image/png": "[encoded data removed]"
          },
          "metadata": {}
        },
        {
          "output_type": "display_data",
          "data": {
            "text/plain": [
              "<Figure size 842.4x595.44 with 1 Axes>"
            ],
            "image/png": "[encoded data removed]"
          },
          "metadata": {}
        },
        {
          "output_type": "display_data",
          "data": {
            "text/plain": [
              "<Figure size 842.4x595.44 with 1 Axes>"
            ],
            "image/png": "[encoded data removed]"
          },
          "metadata": {}
        },
        {
          "output_type": "display_data",
          "data": {
            "text/plain": [
              "<Figure size 842.4x595.44 with 1 Axes>"
            ],
            "image/png": "[encoded data removed]"
          },
          "metadata": {}
        },
        {
          "output_type": "display_data",
          "data": {
            "text/plain": [
              "<Figure size 842.4x595.44 with 1 Axes>"
            ],
            "image/png": "[encoded data removed]"
          },
          "metadata": {}
        },
        {
          "output_type": "display_data",
          "data": {
            "text/plain": [
              "<Figure size 842.4x595.44 with 1 Axes>"
            ],
            "image/png": "[encoded data removed]"
          },
          "metadata": {}
        },
        {
          "output_type": "display_data",
          "data": {
            "text/plain": [
              "<Figure size 842.4x595.44 with 1 Axes>"
            ],
            "image/png": "[encoded data removed]"
          },
          "metadata": {}
        }
      ]
    },
    {
      "cell_type": "markdown",
      "source": [
        "# **Inferences**\n",
        "\n",
        "\n",
        "**1.**  Plot 1 doesnt show much of a relatinon between our label anf age, though if we look closely we may see that mid 30's are likely to borrow loan, but still its not that significant. \n",
        "\n",
        "**2.**   In Plot 2 we can see that prorption of loan borrowers is higher when family memebrs are 3 or higher\n",
        "\n",
        "**3.** In plot 3 Undergrads are less likely to take loan comparinng to people who had a graduate and post graduate.\n",
        "\n",
        "**4.** Plot 5 clearly shws that people having fixed depostis are more likely to borrow loan and conversly people who dont have a fixed deposit are less likely to borrown loan\n",
        "\n",
        "**5.** for other graphs the relation is not significant.\n",
        "\n"
      ],
      "metadata": {
        "id": "Z2_2QH9-9UxG"
      }
    },
    {
      "cell_type": "code",
      "source": [
        "data['Loan'] = np.where(data.Loan == 'yes',1,0)\n"
      ],
      "metadata": {
        "id": "TIdOsEqFE4Ly"
      },
      "execution_count": 25,
      "outputs": []
    },
    {
      "cell_type": "markdown",
      "source": [
        "mapping label values to 0 and 1\n"
      ],
      "metadata": {
        "id": "Q_ochcSmn0IT"
      }
    },
    {
      "cell_type": "markdown",
      "source": [
        "**Visualizing continous variables**"
      ],
      "metadata": {
        "id": "vQU2dm60n4al"
      }
    },
    {
      "cell_type": "code",
      "source": [
        "Tot = sns.kdeplot(data.Mortgage[(data[\"Loan\"] == 0) ],\n",
        "                color=\"Red\", shade = True)\n",
        "Tot = sns.kdeplot(data.Mortgage[(data[\"Loan\"] == 1) ],\n",
        "                ax =Tot, color=\"Blue\", shade= True)\n",
        "Tot.legend([\"No Loan\",\"Loan\"],loc='upper right')\n",
        "Tot.set_ylabel('Density')\n",
        "Tot.set_xlabel('Total Mortgage')\n",
        "Tot.set_title('Total Mortgage by Loan')"
      ],
      "metadata": {
        "colab": {
          "base_uri": "https://localhost:8080/",
          "height": 550
        },
        "id": "IOY7tdcQC_rn",
        "outputId": "d2426da5-a178-42d5-c49e-ce2bc06a21ea"
      },
      "execution_count": 26,
      "outputs": [
        {
          "output_type": "execute_result",
          "data": {
            "text/plain": [
              "Text(0.5, 1.0, 'Total Mortgage by Loan')"
            ]
          },
          "metadata": {},
          "execution_count": 26
        },
        {
          "output_type": "display_data",
          "data": {
            "text/plain": [
              "<Figure size 842.4x595.44 with 1 Axes>"
            ],
            "image/png": "[encoded data removed]"
          },
          "metadata": {}
        }
      ]
    },
    {
      "cell_type": "markdown",
      "source": [
        "Its clear that most values are concentrated around 0 as most people in the dataset have no mortgage, to see the relation we have to move more along x axis which tells us that as mortgage reaches >2*10^6 people having loan increases more that people who dont."
      ],
      "metadata": {
        "id": "axKu5ckUoOtv"
      }
    },
    {
      "cell_type": "code",
      "source": [
        "Tot = sns.kdeplot(data.Income[(data[\"Loan\"] == 0) ],\n",
        "                color=\"Red\", shade = True)\n",
        "Tot = sns.kdeplot(data.Income[(data[\"Loan\"] == 1) ],\n",
        "                ax =Tot, color=\"Blue\", shade= True)\n",
        "Tot.legend([\"No Loan\",\"Loan\"],loc='upper right')\n",
        "Tot.set_ylabel('Density')\n",
        "Tot.set_xlabel('Total Income')\n",
        "Tot.set_title('Total Income by Loan')"
      ],
      "metadata": {
        "colab": {
          "base_uri": "https://localhost:8080/",
          "height": 550
        },
        "id": "L7m8RegBEpJd",
        "outputId": "9864a293-9189-4322-af5c-2843a2159f30"
      },
      "execution_count": 27,
      "outputs": [
        {
          "output_type": "execute_result",
          "data": {
            "text/plain": [
              "Text(0.5, 1.0, 'Total Income by Loan')"
            ]
          },
          "metadata": {},
          "execution_count": 27
        },
        {
          "output_type": "display_data",
          "data": {
            "text/plain": [
              "<Figure size 842.4x595.44 with 1 Axes>"
            ],
            "image/png": "[encoded data removed]"
          },
          "metadata": {}
        }
      ]
    },
    {
      "cell_type": "markdown",
      "source": [
        "**This graph strongly shows that people with more income are likely to have loan and vice versa**"
      ],
      "metadata": {
        "id": "HFLzPOj8paJn"
      }
    },
    {
      "cell_type": "code",
      "source": [
        "Tot = sns.kdeplot(data.age[(data[\"Loan\"] == 0) ],\n",
        "                color=\"Red\", shade = True)\n",
        "Tot = sns.kdeplot(data.age[(data[\"Loan\"] == 1) ],\n",
        "                ax =Tot, color=\"Blue\", shade= True)\n",
        "Tot.legend([\"No Loan\",\"Loan\"],loc='upper right')\n",
        "Tot.set_ylabel('Density')\n",
        "Tot.set_xlabel('Total age')\n",
        "Tot.set_title('Total age by Loan')"
      ],
      "metadata": {
        "colab": {
          "base_uri": "https://localhost:8080/",
          "height": 550
        },
        "id": "QH-UT3rFFtAC",
        "outputId": "6d6f2727-d05b-43bc-ea88-3d08981824ad"
      },
      "execution_count": 28,
      "outputs": [
        {
          "output_type": "execute_result",
          "data": {
            "text/plain": [
              "Text(0.5, 1.0, 'Total age by Loan')"
            ]
          },
          "metadata": {},
          "execution_count": 28
        },
        {
          "output_type": "display_data",
          "data": {
            "text/plain": [
              "<Figure size 842.4x595.44 with 1 Axes>"
            ],
            "image/png": "[encoded data removed]"
          },
          "metadata": {}
        }
      ]
    },
    {
      "cell_type": "markdown",
      "source": [
        "This graph suggest that there is not relationship between label and age but as we can see peek when age is around 30's suggest that people are mid 30s are more like to borrow loan."
      ],
      "metadata": {
        "id": "Lgf_SigPp6Bz"
      }
    },
    {
      "cell_type": "code",
      "source": [
        "sns.stripplot(x=\"Loan\", y=\"Income\", data=data)\n",
        "  \n",
        "plt.show()"
      ],
      "metadata": {
        "colab": {
          "base_uri": "https://localhost:8080/",
          "height": 517
        },
        "id": "MajzWbydT_wP",
        "outputId": "3f93b27a-e2ec-418b-9e4d-95312b567db8"
      },
      "execution_count": 289,
      "outputs": [
        {
          "output_type": "display_data",
          "data": {
            "text/plain": [
              "<Figure size 842.4x595.44 with 1 Axes>"
            ],
            "image/png": "[encoded data removed]"
          },
          "metadata": {}
        }
      ]
    },
    {
      "cell_type": "markdown",
      "source": [
        "stripplot gives similar result as we got from kde plot, we can see for that people which have class label as 1 or loan borrowers have income higher than those who didnt borrow loan, apart from that this also shows that how highly is our data imbalanced."
      ],
      "metadata": {
        "id": "GYf74iwq2--9"
      }
    },
    {
      "cell_type": "code",
      "source": [
        "sns.stripplot(y=\"Mortgage\", x=\"Loan\", data=data)\n",
        "  \n",
        "plt.show()"
      ],
      "metadata": {
        "colab": {
          "base_uri": "https://localhost:8080/",
          "height": 528
        },
        "id": "cJC6PAlY3qgO",
        "outputId": "c827cd06-b46c-42b0-f965-b59bdb1bf44b"
      },
      "execution_count": 302,
      "outputs": [
        {
          "output_type": "display_data",
          "data": {
            "text/plain": [
              "<Figure size 842.4x595.44 with 1 Axes>"
            ],
            "image/png": "[encoded data removed]"
          },
          "metadata": {}
        }
      ]
    },
    {
      "cell_type": "markdown",
      "source": [
        "Similar results as from KDE plot, as mortagage increase number of obsevation for label 1 or people with loan increases."
      ],
      "metadata": {
        "id": "Ua2OZxeC5Plz"
      }
    },
    {
      "cell_type": "code",
      "source": [
        "data[data.Mortgage>0].count()"
      ],
      "metadata": {
        "colab": {
          "base_uri": "https://localhost:8080/"
        },
        "id": "gRHiEeslHBA-",
        "outputId": "119d8b2a-fe39-4458-c63a-38add639e217"
      },
      "execution_count": 31,
      "outputs": [
        {
          "output_type": "execute_result",
          "data": {
            "text/plain": [
              "age              1538\n",
              "Fam members      1538\n",
              "Education        1538\n",
              "T.Experience     1538\n",
              "Income           1538\n",
              "Mortgage         1538\n",
              "Fixed Deposit    1538\n",
              "Demat            1538\n",
              "Net Banking      1538\n",
              "Loan             1538\n",
              "dtype: int64"
            ]
          },
          "metadata": {},
          "execution_count": 31
        }
      ]
    },
    {
      "cell_type": "markdown",
      "source": [
        "**One hot encoding categorical variables**"
      ],
      "metadata": {
        "id": "tl61z8sm7T04"
      }
    },
    {
      "cell_type": "code",
      "source": [
        "data1 = pd.get_dummies(data)\n",
        "data1.head()"
      ],
      "metadata": {
        "colab": {
          "base_uri": "https://localhost:8080/",
          "height": 287
        },
        "id": "MXAqVXYqIs4E",
        "outputId": "2aec9a35-5562-4036-f7e6-3a468117e15e"
      },
      "execution_count": 122,
      "outputs": [
        {
          "output_type": "execute_result",
          "data": {
            "text/plain": [
              "   age  Fam members  T.Experience     Income  Mortgage  Loan  \\\n",
              "0   23            4             1  12.879020         0     0   \n",
              "1   43            3            19  12.513561         0     0   \n",
              "2   37            1            15  11.385103         0     0   \n",
              "3   33            1             9  13.592368         0     0   \n",
              "4   33            4             8  12.793862         0     0   \n",
              "\n",
              "   Education_Graduate  Education_Post Graduate  Education_Under Graduate  \\\n",
              "0                   0                        0                         1   \n",
              "1                   0                        0                         1   \n",
              "2                   0                        0                         1   \n",
              "3                   1                        0                         0   \n",
              "4                   1                        0                         0   \n",
              "\n",
              "   Fixed Deposit_no  Fixed Deposit_yes  Demat_no  Demat_yes  Net Banking_no  \\\n",
              "0                 1                  0         0          1               1   \n",
              "1                 1                  0         0          1               1   \n",
              "2                 1                  0         1          0               1   \n",
              "3                 1                  0         1          0               1   \n",
              "4                 1                  0         1          0               1   \n",
              "\n",
              "   Net Banking_yes  \n",
              "0                0  \n",
              "1                0  \n",
              "2                0  \n",
              "3                0  \n",
              "4                0  "
            ],
            "text/html": [
              "\n",
              "  <div id=\"df-c14b0339-72d8-4f83-a1b9-9c5507ec4792\">\n",
              "    <div class=\"colab-df-container\">\n",
              "      <div>\n",
              "<style scoped>\n",
              "    .dataframe tbody tr th:only-of-type {\n",
              "        vertical-align: middle;\n",
              "    }\n",
              "\n",
              "    .dataframe tbody tr th {\n",
              "        vertical-align: top;\n",
              "    }\n",
              "\n",
              "    .dataframe thead th {\n",
              "        text-align: right;\n",
              "    }\n",
              "</style>\n",
              "<table border=\"1\" class=\"dataframe\">\n",
              "  <thead>\n",
              "    <tr style=\"text-align: right;\">\n",
              "      <th></th>\n",
              "      <th>age</th>\n",
              "      <th>Fam members</th>\n",
              "      <th>T.Experience</th>\n",
              "      <th>Income</th>\n",
              "      <th>Mortgage</th>\n",
              "      <th>Loan</th>\n",
              "      <th>Education_Graduate</th>\n",
              "      <th>Education_Post Graduate</th>\n",
              "      <th>Education_Under Graduate</th>\n",
              "      <th>Fixed Deposit_no</th>\n",
              "      <th>Fixed Deposit_yes</th>\n",
              "      <th>Demat_no</th>\n",
              "      <th>Demat_yes</th>\n",
              "      <th>Net Banking_no</th>\n",
              "      <th>Net Banking_yes</th>\n",
              "    </tr>\n",
              "  </thead>\n",
              "  <tbody>\n",
              "    <tr>\n",
              "      <th>0</th>\n",
              "      <td>23</td>\n",
              "      <td>4</td>\n",
              "      <td>1</td>\n",
              "      <td>12.879020</td>\n",
              "      <td>0</td>\n",
              "      <td>0</td>\n",
              "      <td>0</td>\n",
              "      <td>0</td>\n",
              "      <td>1</td>\n",
              "      <td>1</td>\n",
              "      <td>0</td>\n",
              "      <td>0</td>\n",
              "      <td>1</td>\n",
              "      <td>1</td>\n",
              "      <td>0</td>\n",
              "    </tr>\n",
              "    <tr>\n",
              "      <th>1</th>\n",
              "      <td>43</td>\n",
              "      <td>3</td>\n",
              "      <td>19</td>\n",
              "      <td>12.513561</td>\n",
              "      <td>0</td>\n",
              "      <td>0</td>\n",
              "      <td>0</td>\n",
              "      <td>0</td>\n",
              "      <td>1</td>\n",
              "      <td>1</td>\n",
              "      <td>0</td>\n",
              "      <td>0</td>\n",
              "      <td>1</td>\n",
              "      <td>1</td>\n",
              "      <td>0</td>\n",
              "    </tr>\n",
              "    <tr>\n",
              "      <th>2</th>\n",
              "      <td>37</td>\n",
              "      <td>1</td>\n",
              "      <td>15</td>\n",
              "      <td>11.385103</td>\n",
              "      <td>0</td>\n",
              "      <td>0</td>\n",
              "      <td>0</td>\n",
              "      <td>0</td>\n",
              "      <td>1</td>\n",
              "      <td>1</td>\n",
              "      <td>0</td>\n",
              "      <td>1</td>\n",
              "      <td>0</td>\n",
              "      <td>1</td>\n",
              "      <td>0</td>\n",
              "    </tr>\n",
              "    <tr>\n",
              "      <th>3</th>\n",
              "      <td>33</td>\n",
              "      <td>1</td>\n",
              "      <td>9</td>\n",
              "      <td>13.592368</td>\n",
              "      <td>0</td>\n",
              "      <td>0</td>\n",
              "      <td>1</td>\n",
              "      <td>0</td>\n",
              "      <td>0</td>\n",
              "      <td>1</td>\n",
              "      <td>0</td>\n",
              "      <td>1</td>\n",
              "      <td>0</td>\n",
              "      <td>1</td>\n",
              "      <td>0</td>\n",
              "    </tr>\n",
              "    <tr>\n",
              "      <th>4</th>\n",
              "      <td>33</td>\n",
              "      <td>4</td>\n",
              "      <td>8</td>\n",
              "      <td>12.793862</td>\n",
              "      <td>0</td>\n",
              "      <td>0</td>\n",
              "      <td>1</td>\n",
              "      <td>0</td>\n",
              "      <td>0</td>\n",
              "      <td>1</td>\n",
              "      <td>0</td>\n",
              "      <td>1</td>\n",
              "      <td>0</td>\n",
              "      <td>1</td>\n",
              "      <td>0</td>\n",
              "    </tr>\n",
              "  </tbody>\n",
              "</table>\n",
              "</div>\n",
              "      <button class=\"colab-df-convert\" onclick=\"convertToInteractive('df-c14b0339-72d8-4f83-a1b9-9c5507ec4792')\"\n",
              "              title=\"Convert this dataframe to an interactive table.\"\n",
              "              style=\"display:none;\">\n",
              "        \n",
              "  <svg xmlns=\"http://www.w3.org/2000/svg\" height=\"24px\"viewBox=\"0 0 24 24\"\n",
              "       width=\"24px\">\n",
              "    <path d=\"M0 0h24v24H0V0z\" fill=\"none\"/>\n",
              "    <path d=\"M18.56 5.44l.94 2.06.94-2.06 2.06-.94-2.06-.94-.94-2.06-.94 2.06-2.06.94zm-11 1L8.5 8.5l.94-2.06 2.06-.94-2.06-.94L8.5 2.5l-.94 2.06-2.06.94zm10 10l.94 2.06.94-2.06 2.06-.94-2.06-.94-.94-2.06-.94 2.06-2.06.94z\"/><path d=\"M17.41 7.96l-1.37-1.37c-.4-.4-.92-.59-1.43-.59-.52 0-1.04.2-1.43.59L10.3 9.45l-7.72 7.72c-.78.78-.78 2.05 0 2.83L4 21.41c.39.39.9.59 1.41.59.51 0 1.02-.2 1.41-.59l7.78-7.78 2.81-2.81c.8-.78.8-2.07 0-2.86zM5.41 20L4 18.59l7.72-7.72 1.47 1.35L5.41 20z\"/>\n",
              "  </svg>\n",
              "      </button>\n",
              "      \n",
              "  <style>\n",
              "    .colab-df-container {\n",
              "      display:flex;\n",
              "      flex-wrap:wrap;\n",
              "      gap: 12px;\n",
              "    }\n",
              "\n",
              "    .colab-df-convert {\n",
              "      background-color: #E8F0FE;\n",
              "      border: none;\n",
              "      border-radius: 50%;\n",
              "      cursor: pointer;\n",
              "      display: none;\n",
              "      fill: #1967D2;\n",
              "      height: 32px;\n",
              "      padding: 0 0 0 0;\n",
              "      width: 32px;\n",
              "    }\n",
              "\n",
              "    .colab-df-convert:hover {\n",
              "      background-color: #E2EBFA;\n",
              "      box-shadow: 0px 1px 2px rgba(60, 64, 67, 0.3), 0px 1px 3px 1px rgba(60, 64, 67, 0.15);\n",
              "      fill: #174EA6;\n",
              "    }\n",
              "\n",
              "    [theme=dark] .colab-df-convert {\n",
              "      background-color: #3B4455;\n",
              "      fill: #D2E3FC;\n",
              "    }\n",
              "\n",
              "    [theme=dark] .colab-df-convert:hover {\n",
              "      background-color: #434B5C;\n",
              "      box-shadow: 0px 1px 3px 1px rgba(0, 0, 0, 0.15);\n",
              "      filter: drop-shadow(0px 1px 2px rgba(0, 0, 0, 0.3));\n",
              "      fill: #FFFFFF;\n",
              "    }\n",
              "  </style>\n",
              "\n",
              "      <script>\n",
              "        const buttonEl =\n",
              "          document.querySelector('#df-c14b0339-72d8-4f83-a1b9-9c5507ec4792 button.colab-df-convert');\n",
              "        buttonEl.style.display =\n",
              "          google.colab.kernel.accessAllowed ? 'block' : 'none';\n",
              "\n",
              "        async function convertToInteractive(key) {\n",
              "          const element = document.querySelector('#df-c14b0339-72d8-4f83-a1b9-9c5507ec4792');\n",
              "          const dataTable =\n",
              "            await google.colab.kernel.invokeFunction('convertToInteractive',\n",
              "                                                     [key], {});\n",
              "          if (!dataTable) return;\n",
              "\n",
              "          const docLinkHtml = 'Like what you see? Visit the ' +\n",
              "            '<a target=\"_blank\" href=https://colab.research.google.com/notebooks/data_table.ipynb>data table notebook</a>'\n",
              "            + ' to learn more about interactive tables.';\n",
              "          element.innerHTML = '';\n",
              "          dataTable['output_type'] = 'display_data';\n",
              "          await google.colab.output.renderOutput(dataTable, element);\n",
              "          const docLink = document.createElement('div');\n",
              "          docLink.innerHTML = docLinkHtml;\n",
              "          element.appendChild(docLink);\n",
              "        }\n",
              "      </script>\n",
              "    </div>\n",
              "  </div>\n",
              "  "
            ]
          },
          "metadata": {},
          "execution_count": 122
        }
      ]
    },
    {
      "cell_type": "code",
      "source": [
        "data1.columns"
      ],
      "metadata": {
        "id": "uHQQsFVAJYuh",
        "colab": {
          "base_uri": "https://localhost:8080/"
        },
        "outputId": "bd23045f-1bee-4f15-f097-60ed7e4804fe"
      },
      "execution_count": 123,
      "outputs": [
        {
          "output_type": "execute_result",
          "data": {
            "text/plain": [
              "Index(['age', 'Fam members', 'T.Experience', 'Income', 'Mortgage', 'Loan',\n",
              "       'Education_Graduate', 'Education_Post Graduate',\n",
              "       'Education_Under Graduate', 'Fixed Deposit_no', 'Fixed Deposit_yes',\n",
              "       'Demat_no', 'Demat_yes', 'Net Banking_no', 'Net Banking_yes'],\n",
              "      dtype='object')"
            ]
          },
          "metadata": {},
          "execution_count": 123
        }
      ]
    },
    {
      "cell_type": "code",
      "source": [
        "import matplotlib.pyplot as plt\n"
      ],
      "metadata": {
        "id": "niYER6j00rT1"
      },
      "execution_count": 127,
      "outputs": []
    },
    {
      "cell_type": "markdown",
      "source": [
        "**Log Transforming numerical variable Income so that it become less skewed and more normal**"
      ],
      "metadata": {
        "id": "taWt2BWl7nDN"
      }
    },
    {
      "cell_type": "code",
      "source": [
        "plt.hist(data1['Income'])\n",
        "plt.show() \n"
      ],
      "metadata": {
        "colab": {
          "base_uri": "https://localhost:8080/",
          "height": 500
        },
        "id": "3Au6jnAs06ie",
        "outputId": "897f0ac6-e963-4c0d-a2b3-094285b77d2e"
      },
      "execution_count": 128,
      "outputs": [
        {
          "output_type": "display_data",
          "data": {
            "text/plain": [
              "<Figure size 842.4x595.44 with 1 Axes>"
            ],
            "image/png": "[encoded data removed]"
          },
          "metadata": {}
        }
      ]
    },
    {
      "cell_type": "code",
      "source": [
        "plt.hist(np.log1p(data1['Income']))\n",
        "plt.show() "
      ],
      "metadata": {
        "colab": {
          "base_uri": "https://localhost:8080/",
          "height": 500
        },
        "id": "bH3KC5MU_RCJ",
        "outputId": "d6eb979e-caae-4b26-ca4f-88fb41832683"
      },
      "execution_count": 129,
      "outputs": [
        {
          "output_type": "display_data",
          "data": {
            "text/plain": [
              "<Figure size 842.4x595.44 with 1 Axes>"
            ],
            "image/png": "[encoded data removed]"
          },
          "metadata": {}
        }
      ]
    },
    {
      "cell_type": "code",
      "source": [
        "data1['Income']=np.log1p(data1['Income'])"
      ],
      "metadata": {
        "id": "k-EJpg4LAA58"
      },
      "execution_count": 130,
      "outputs": []
    },
    {
      "cell_type": "code",
      "source": [
        "data1"
      ],
      "metadata": {
        "colab": {
          "base_uri": "https://localhost:8080/",
          "height": 505
        },
        "id": "KJnpzOr281G9",
        "outputId": "8ab39e62-80fb-45f3-e9b6-ef9e80b8dc2a"
      },
      "execution_count": 131,
      "outputs": [
        {
          "output_type": "execute_result",
          "data": {
            "text/plain": [
              "      age  Fam members  T.Experience    Income  Mortgage  Loan  \\\n",
              "0      23            4             1  2.630378         0     0   \n",
              "1      43            3            19  2.603694         0     0   \n",
              "2      37            1            15  2.516494         0     0   \n",
              "3      33            1             9  2.680499         0     0   \n",
              "4      33            4             8  2.624224         0     0   \n",
              "...   ...          ...           ...       ...       ...   ...   \n",
              "4995   27            1             3  2.615648         0     0   \n",
              "4996   28            4             4  2.541228    680000     0   \n",
              "4997   61            2            39  2.577581         0     0   \n",
              "4998   63            3            40  2.630378         0     0   \n",
              "4999   26            3             4  2.667647         0     0   \n",
              "\n",
              "      Education_Graduate  Education_Post Graduate  Education_Under Graduate  \\\n",
              "0                      0                        0                         1   \n",
              "1                      0                        0                         1   \n",
              "2                      0                        0                         1   \n",
              "3                      1                        0                         0   \n",
              "4                      1                        0                         0   \n",
              "...                  ...                      ...                       ...   \n",
              "4995                   0                        1                         0   \n",
              "4996                   0                        0                         1   \n",
              "4997                   0                        1                         0   \n",
              "4998                   1                        0                         0   \n",
              "4999                   0                        0                         1   \n",
              "\n",
              "      Fixed Deposit_no  Fixed Deposit_yes  Demat_no  Demat_yes  \\\n",
              "0                    1                  0         0          1   \n",
              "1                    1                  0         0          1   \n",
              "2                    1                  0         1          0   \n",
              "3                    1                  0         1          0   \n",
              "4                    1                  0         1          0   \n",
              "...                ...                ...       ...        ...   \n",
              "4995                 1                  0         1          0   \n",
              "4996                 1                  0         1          0   \n",
              "4997                 1                  0         1          0   \n",
              "4998                 1                  0         1          0   \n",
              "4999                 1                  0         1          0   \n",
              "\n",
              "      Net Banking_no  Net Banking_yes  \n",
              "0                  1                0  \n",
              "1                  1                0  \n",
              "2                  1                0  \n",
              "3                  1                0  \n",
              "4                  1                0  \n",
              "...              ...              ...  \n",
              "4995               0                1  \n",
              "4996               0                1  \n",
              "4997               1                0  \n",
              "4998               0                1  \n",
              "4999               0                1  \n",
              "\n",
              "[5000 rows x 15 columns]"
            ],
            "text/html": [
              "\n",
              "  <div id=\"df-ebd41d09-3a8c-42cd-bff0-9c66baf00d73\">\n",
              "    <div class=\"colab-df-container\">\n",
              "      <div>\n",
              "<style scoped>\n",
              "    .dataframe tbody tr th:only-of-type {\n",
              "        vertical-align: middle;\n",
              "    }\n",
              "\n",
              "    .dataframe tbody tr th {\n",
              "        vertical-align: top;\n",
              "    }\n",
              "\n",
              "    .dataframe thead th {\n",
              "        text-align: right;\n",
              "    }\n",
              "</style>\n",
              "<table border=\"1\" class=\"dataframe\">\n",
              "  <thead>\n",
              "    <tr style=\"text-align: right;\">\n",
              "      <th></th>\n",
              "      <th>age</th>\n",
              "      <th>Fam members</th>\n",
              "      <th>T.Experience</th>\n",
              "      <th>Income</th>\n",
              "      <th>Mortgage</th>\n",
              "      <th>Loan</th>\n",
              "      <th>Education_Graduate</th>\n",
              "      <th>Education_Post Graduate</th>\n",
              "      <th>Education_Under Graduate</th>\n",
              "      <th>Fixed Deposit_no</th>\n",
              "      <th>Fixed Deposit_yes</th>\n",
              "      <th>Demat_no</th>\n",
              "      <th>Demat_yes</th>\n",
              "      <th>Net Banking_no</th>\n",
              "      <th>Net Banking_yes</th>\n",
              "    </tr>\n",
              "  </thead>\n",
              "  <tbody>\n",
              "    <tr>\n",
              "      <th>0</th>\n",
              "      <td>23</td>\n",
              "      <td>4</td>\n",
              "      <td>1</td>\n",
              "      <td>2.630378</td>\n",
              "      <td>0</td>\n",
              "      <td>0</td>\n",
              "      <td>0</td>\n",
              "      <td>0</td>\n",
              "      <td>1</td>\n",
              "      <td>1</td>\n",
              "      <td>0</td>\n",
              "      <td>0</td>\n",
              "      <td>1</td>\n",
              "      <td>1</td>\n",
              "      <td>0</td>\n",
              "    </tr>\n",
              "    <tr>\n",
              "      <th>1</th>\n",
              "      <td>43</td>\n",
              "      <td>3</td>\n",
              "      <td>19</td>\n",
              "      <td>2.603694</td>\n",
              "      <td>0</td>\n",
              "      <td>0</td>\n",
              "      <td>0</td>\n",
              "      <td>0</td>\n",
              "      <td>1</td>\n",
              "      <td>1</td>\n",
              "      <td>0</td>\n",
              "      <td>0</td>\n",
              "      <td>1</td>\n",
              "      <td>1</td>\n",
              "      <td>0</td>\n",
              "    </tr>\n",
              "    <tr>\n",
              "      <th>2</th>\n",
              "      <td>37</td>\n",
              "      <td>1</td>\n",
              "      <td>15</td>\n",
              "      <td>2.516494</td>\n",
              "      <td>0</td>\n",
              "      <td>0</td>\n",
              "      <td>0</td>\n",
              "      <td>0</td>\n",
              "      <td>1</td>\n",
              "      <td>1</td>\n",
              "      <td>0</td>\n",
              "      <td>1</td>\n",
              "      <td>0</td>\n",
              "      <td>1</td>\n",
              "      <td>0</td>\n",
              "    </tr>\n",
              "    <tr>\n",
              "      <th>3</th>\n",
              "      <td>33</td>\n",
              "      <td>1</td>\n",
              "      <td>9</td>\n",
              "      <td>2.680499</td>\n",
              "      <td>0</td>\n",
              "      <td>0</td>\n",
              "      <td>1</td>\n",
              "      <td>0</td>\n",
              "      <td>0</td>\n",
              "      <td>1</td>\n",
              "      <td>0</td>\n",
              "      <td>1</td>\n",
              "      <td>0</td>\n",
              "      <td>1</td>\n",
              "      <td>0</td>\n",
              "    </tr>\n",
              "    <tr>\n",
              "      <th>4</th>\n",
              "      <td>33</td>\n",
              "      <td>4</td>\n",
              "      <td>8</td>\n",
              "      <td>2.624224</td>\n",
              "      <td>0</td>\n",
              "      <td>0</td>\n",
              "      <td>1</td>\n",
              "      <td>0</td>\n",
              "      <td>0</td>\n",
              "      <td>1</td>\n",
              "      <td>0</td>\n",
              "      <td>1</td>\n",
              "      <td>0</td>\n",
              "      <td>1</td>\n",
              "      <td>0</td>\n",
              "    </tr>\n",
              "    <tr>\n",
              "      <th>...</th>\n",
              "      <td>...</td>\n",
              "      <td>...</td>\n",
              "      <td>...</td>\n",
              "      <td>...</td>\n",
              "      <td>...</td>\n",
              "      <td>...</td>\n",
              "      <td>...</td>\n",
              "      <td>...</td>\n",
              "      <td>...</td>\n",
              "      <td>...</td>\n",
              "      <td>...</td>\n",
              "      <td>...</td>\n",
              "      <td>...</td>\n",
              "      <td>...</td>\n",
              "      <td>...</td>\n",
              "    </tr>\n",
              "    <tr>\n",
              "      <th>4995</th>\n",
              "      <td>27</td>\n",
              "      <td>1</td>\n",
              "      <td>3</td>\n",
              "      <td>2.615648</td>\n",
              "      <td>0</td>\n",
              "      <td>0</td>\n",
              "      <td>0</td>\n",
              "      <td>1</td>\n",
              "      <td>0</td>\n",
              "      <td>1</td>\n",
              "      <td>0</td>\n",
              "      <td>1</td>\n",
              "      <td>0</td>\n",
              "      <td>0</td>\n",
              "      <td>1</td>\n",
              "    </tr>\n",
              "    <tr>\n",
              "      <th>4996</th>\n",
              "      <td>28</td>\n",
              "      <td>4</td>\n",
              "      <td>4</td>\n",
              "      <td>2.541228</td>\n",
              "      <td>680000</td>\n",
              "      <td>0</td>\n",
              "      <td>0</td>\n",
              "      <td>0</td>\n",
              "      <td>1</td>\n",
              "      <td>1</td>\n",
              "      <td>0</td>\n",
              "      <td>1</td>\n",
              "      <td>0</td>\n",
              "      <td>0</td>\n",
              "      <td>1</td>\n",
              "    </tr>\n",
              "    <tr>\n",
              "      <th>4997</th>\n",
              "      <td>61</td>\n",
              "      <td>2</td>\n",
              "      <td>39</td>\n",
              "      <td>2.577581</td>\n",
              "      <td>0</td>\n",
              "      <td>0</td>\n",
              "      <td>0</td>\n",
              "      <td>1</td>\n",
              "      <td>0</td>\n",
              "      <td>1</td>\n",
              "      <td>0</td>\n",
              "      <td>1</td>\n",
              "      <td>0</td>\n",
              "      <td>1</td>\n",
              "      <td>0</td>\n",
              "    </tr>\n",
              "    <tr>\n",
              "      <th>4998</th>\n",
              "      <td>63</td>\n",
              "      <td>3</td>\n",
              "      <td>40</td>\n",
              "      <td>2.630378</td>\n",
              "      <td>0</td>\n",
              "      <td>0</td>\n",
              "      <td>1</td>\n",
              "      <td>0</td>\n",
              "      <td>0</td>\n",
              "      <td>1</td>\n",
              "      <td>0</td>\n",
              "      <td>1</td>\n",
              "      <td>0</td>\n",
              "      <td>0</td>\n",
              "      <td>1</td>\n",
              "    </tr>\n",
              "    <tr>\n",
              "      <th>4999</th>\n",
              "      <td>26</td>\n",
              "      <td>3</td>\n",
              "      <td>4</td>\n",
              "      <td>2.667647</td>\n",
              "      <td>0</td>\n",
              "      <td>0</td>\n",
              "      <td>0</td>\n",
              "      <td>0</td>\n",
              "      <td>1</td>\n",
              "      <td>1</td>\n",
              "      <td>0</td>\n",
              "      <td>1</td>\n",
              "      <td>0</td>\n",
              "      <td>0</td>\n",
              "      <td>1</td>\n",
              "    </tr>\n",
              "  </tbody>\n",
              "</table>\n",
              "<p>5000 rows × 15 columns</p>\n",
              "</div>\n",
              "      <button class=\"colab-df-convert\" onclick=\"convertToInteractive('df-ebd41d09-3a8c-42cd-bff0-9c66baf00d73')\"\n",
              "              title=\"Convert this dataframe to an interactive table.\"\n",
              "              style=\"display:none;\">\n",
              "        \n",
              "  <svg xmlns=\"http://www.w3.org/2000/svg\" height=\"24px\"viewBox=\"0 0 24 24\"\n",
              "       width=\"24px\">\n",
              "    <path d=\"M0 0h24v24H0V0z\" fill=\"none\"/>\n",
              "    <path d=\"M18.56 5.44l.94 2.06.94-2.06 2.06-.94-2.06-.94-.94-2.06-.94 2.06-2.06.94zm-11 1L8.5 8.5l.94-2.06 2.06-.94-2.06-.94L8.5 2.5l-.94 2.06-2.06.94zm10 10l.94 2.06.94-2.06 2.06-.94-2.06-.94-.94-2.06-.94 2.06-2.06.94z\"/><path d=\"M17.41 7.96l-1.37-1.37c-.4-.4-.92-.59-1.43-.59-.52 0-1.04.2-1.43.59L10.3 9.45l-7.72 7.72c-.78.78-.78 2.05 0 2.83L4 21.41c.39.39.9.59 1.41.59.51 0 1.02-.2 1.41-.59l7.78-7.78 2.81-2.81c.8-.78.8-2.07 0-2.86zM5.41 20L4 18.59l7.72-7.72 1.47 1.35L5.41 20z\"/>\n",
              "  </svg>\n",
              "      </button>\n",
              "      \n",
              "  <style>\n",
              "    .colab-df-container {\n",
              "      display:flex;\n",
              "      flex-wrap:wrap;\n",
              "      gap: 12px;\n",
              "    }\n",
              "\n",
              "    .colab-df-convert {\n",
              "      background-color: #E8F0FE;\n",
              "      border: none;\n",
              "      border-radius: 50%;\n",
              "      cursor: pointer;\n",
              "      display: none;\n",
              "      fill: #1967D2;\n",
              "      height: 32px;\n",
              "      padding: 0 0 0 0;\n",
              "      width: 32px;\n",
              "    }\n",
              "\n",
              "    .colab-df-convert:hover {\n",
              "      background-color: #E2EBFA;\n",
              "      box-shadow: 0px 1px 2px rgba(60, 64, 67, 0.3), 0px 1px 3px 1px rgba(60, 64, 67, 0.15);\n",
              "      fill: #174EA6;\n",
              "    }\n",
              "\n",
              "    [theme=dark] .colab-df-convert {\n",
              "      background-color: #3B4455;\n",
              "      fill: #D2E3FC;\n",
              "    }\n",
              "\n",
              "    [theme=dark] .colab-df-convert:hover {\n",
              "      background-color: #434B5C;\n",
              "      box-shadow: 0px 1px 3px 1px rgba(0, 0, 0, 0.15);\n",
              "      filter: drop-shadow(0px 1px 2px rgba(0, 0, 0, 0.3));\n",
              "      fill: #FFFFFF;\n",
              "    }\n",
              "  </style>\n",
              "\n",
              "      <script>\n",
              "        const buttonEl =\n",
              "          document.querySelector('#df-ebd41d09-3a8c-42cd-bff0-9c66baf00d73 button.colab-df-convert');\n",
              "        buttonEl.style.display =\n",
              "          google.colab.kernel.accessAllowed ? 'block' : 'none';\n",
              "\n",
              "        async function convertToInteractive(key) {\n",
              "          const element = document.querySelector('#df-ebd41d09-3a8c-42cd-bff0-9c66baf00d73');\n",
              "          const dataTable =\n",
              "            await google.colab.kernel.invokeFunction('convertToInteractive',\n",
              "                                                     [key], {});\n",
              "          if (!dataTable) return;\n",
              "\n",
              "          const docLinkHtml = 'Like what you see? Visit the ' +\n",
              "            '<a target=\"_blank\" href=https://colab.research.google.com/notebooks/data_table.ipynb>data table notebook</a>'\n",
              "            + ' to learn more about interactive tables.';\n",
              "          element.innerHTML = '';\n",
              "          dataTable['output_type'] = 'display_data';\n",
              "          await google.colab.output.renderOutput(dataTable, element);\n",
              "          const docLink = document.createElement('div');\n",
              "          docLink.innerHTML = docLinkHtml;\n",
              "          element.appendChild(docLink);\n",
              "        }\n",
              "      </script>\n",
              "    </div>\n",
              "  </div>\n",
              "  "
            ]
          },
          "metadata": {},
          "execution_count": 131
        }
      ]
    },
    {
      "cell_type": "markdown",
      "source": [
        "Checking for outliers in income column"
      ],
      "metadata": {
        "id": "SzYwQKydRbqS"
      }
    },
    {
      "cell_type": "code",
      "source": [
        "for feature in data1[['Income']]:\n",
        "    data=data1\n",
        "    if 0 in data[feature].unique():\n",
        "        pass\n",
        "    else:\n",
        "        \n",
        "        data.boxplot(column=feature)\n",
        "        plt.ylabel(feature)\n",
        "        plt.title(feature)\n",
        "        plt.show()"
      ],
      "metadata": {
        "colab": {
          "base_uri": "https://localhost:8080/",
          "height": 516
        },
        "id": "yGwKwdlB7CQQ",
        "outputId": "8f75645d-f97f-441a-f434-66499577703d"
      },
      "execution_count": 132,
      "outputs": [
        {
          "output_type": "display_data",
          "data": {
            "text/plain": [
              "<Figure size 842.4x595.44 with 1 Axes>"
            ],
            "image/png": "[encoded data removed]"
          },
          "metadata": {}
        }
      ]
    },
    {
      "cell_type": "markdown",
      "source": [
        "**Outlier Treatment---- Capping the outliers**"
      ],
      "metadata": {
        "id": "4vhA1QGRRgR7"
      }
    },
    {
      "cell_type": "code",
      "source": [
        "for x in ['Income']:\n",
        "    q75,q25 = np.percentile(data1.loc[:,x],[75,25])\n",
        "    intr_qr = q75-q25\n",
        " \n",
        "    max = q75+(1.5*intr_qr)\n",
        "    min = q25-(1.5*intr_qr)\n",
        " \n",
        "    data.loc[data[x] < min,x] = min\n",
        "    data.loc[data[x] > max,x] = max\n"
      ],
      "metadata": {
        "id": "u15O-z747CUs"
      },
      "execution_count": 133,
      "outputs": []
    },
    {
      "cell_type": "code",
      "source": [
        "from sklearn.preprocessing import MinMaxScaler\n"
      ],
      "metadata": {
        "id": "ann3IIff06k0"
      },
      "execution_count": 134,
      "outputs": []
    },
    {
      "cell_type": "code",
      "source": [
        "scaler = MinMaxScaler()\n"
      ],
      "metadata": {
        "id": "V2Wx7ZZg1vqe"
      },
      "execution_count": 135,
      "outputs": []
    },
    {
      "cell_type": "code",
      "source": [],
      "metadata": {
        "id": "93Y8pWPi1vza"
      },
      "execution_count": 135,
      "outputs": []
    },
    {
      "cell_type": "code",
      "source": [
        "y1=data1['Loan']\n",
        "X1=data1.drop('Loan',axis=1)"
      ],
      "metadata": {
        "id": "n_m-Wtp_wpAp"
      },
      "execution_count": 136,
      "outputs": []
    },
    {
      "cell_type": "code",
      "source": [
        "from sklearn.feature_selection import mutual_info_classif\n",
        "\n"
      ],
      "metadata": {
        "id": "HrlQdWMfwhMK"
      },
      "execution_count": 126,
      "outputs": []
    },
    {
      "cell_type": "code",
      "source": [
        "mutual_info=mutual_info_classif(X1,y1)\n"
      ],
      "metadata": {
        "id": "2aukJIdXxVrw"
      },
      "execution_count": 137,
      "outputs": []
    },
    {
      "cell_type": "markdown",
      "source": [
        "**Feature Selection using Mutual Classification**"
      ],
      "metadata": {
        "id": "RlZ8FGl4R52v"
      }
    },
    {
      "cell_type": "code",
      "source": [
        "mutual_data=pd.Series(mutual_info,index=X1.columns)\n",
        "mutual_data.sort_values(ascending=False)\n"
      ],
      "metadata": {
        "colab": {
          "base_uri": "https://localhost:8080/"
        },
        "id": "LbLwlPDlxf3_",
        "outputId": "4063485d-0519-4e2f-a6ed-ac339b26a5ae"
      },
      "execution_count": 138,
      "outputs": [
        {
          "output_type": "execute_result",
          "data": {
            "text/plain": [
              "Income                      0.128354\n",
              "Fixed Deposit_no            0.031093\n",
              "Fixed Deposit_yes           0.029678\n",
              "Mortgage                    0.011492\n",
              "Education_Post Graduate     0.011181\n",
              "Education_Under Graduate    0.011105\n",
              "Fam members                 0.010190\n",
              "Education_Graduate          0.004695\n",
              "Net Banking_no              0.003963\n",
              "age                         0.003289\n",
              "Demat_yes                   0.000192\n",
              "T.Experience                0.000000\n",
              "Demat_no                    0.000000\n",
              "Net Banking_yes             0.000000\n",
              "dtype: float64"
            ]
          },
          "metadata": {},
          "execution_count": 138
        }
      ]
    },
    {
      "cell_type": "code",
      "source": [
        "##data2=data1.drop(['age','Demat_yes','Education_Graduate'],axis=1)"
      ],
      "metadata": {
        "id": "ZYb-2qbPxj0V"
      },
      "execution_count": 139,
      "outputs": []
    },
    {
      "cell_type": "markdown",
      "source": [
        "Droping features with 0 information gain"
      ],
      "metadata": {
        "id": "nZtIWhXLSAym"
      }
    },
    {
      "cell_type": "code",
      "source": [
        "data2=data1.drop(['T.Experience','Demat_yes','Education_Graduate'],axis=1)"
      ],
      "metadata": {
        "id": "v_3nmyMKHmTQ"
      },
      "execution_count": 244,
      "outputs": []
    },
    {
      "cell_type": "code",
      "source": [
        "from scipy.stats import norm\n",
        "from scipy.stats import boxcox\n",
        "from scipy import stats\n",
        "import statsmodels.api as sm\n",
        "import pylab as py\n"
      ],
      "metadata": {
        "id": "IjgKYOyeKG-s"
      },
      "execution_count": 200,
      "outputs": []
    },
    {
      "cell_type": "markdown",
      "source": [
        "**After Outlier Treatment**"
      ],
      "metadata": {
        "id": "qO5Q5pQKSdIX"
      }
    },
    {
      "cell_type": "code",
      "source": [
        "for feature in data2[['Income']]:\n",
        "    data=data1\n",
        "    if 0 in data[feature].unique():\n",
        "        pass\n",
        "    else:\n",
        "        \n",
        "        data.boxplot(column=feature)\n",
        "        plt.ylabel(feature)\n",
        "        plt.title(feature)\n",
        "        plt.show()"
      ],
      "metadata": {
        "colab": {
          "base_uri": "https://localhost:8080/",
          "height": 516
        },
        "id": "wivtdbStcSUt",
        "outputId": "8c119474-e5e8-4ee9-9f9e-65537e4fa9a6"
      },
      "execution_count": 303,
      "outputs": [
        {
          "output_type": "display_data",
          "data": {
            "text/plain": [
              "<Figure size 842.4x595.44 with 1 Axes>"
            ],
            "image/png": "[encoded data removed]"
          },
          "metadata": {}
        }
      ]
    },
    {
      "cell_type": "code",
      "source": [],
      "metadata": {
        "id": "H9UqdG9GZsNr"
      },
      "execution_count": null,
      "outputs": []
    },
    {
      "cell_type": "markdown",
      "source": [
        "**Scaling Continous Vaariables**"
      ],
      "metadata": {
        "id": "My8yJDbJSo75"
      }
    },
    {
      "cell_type": "code",
      "source": [
        "scaled = scaler.fit_transform(data2)\n"
      ],
      "metadata": {
        "id": "VNUrA58N1vs4"
      },
      "execution_count": 245,
      "outputs": []
    },
    {
      "cell_type": "code",
      "source": [
        "scaled=pd.DataFrame(scaled,columns=data2.columns)"
      ],
      "metadata": {
        "id": "Azp4xzv01vvJ"
      },
      "execution_count": 246,
      "outputs": []
    },
    {
      "cell_type": "code",
      "source": [
        "scaled"
      ],
      "metadata": {
        "colab": {
          "base_uri": "https://localhost:8080/",
          "height": 485
        },
        "id": "yrpEMqUF38lZ",
        "outputId": "c3282eb6-6bcd-493d-8c61-bf1720c0bed7"
      },
      "execution_count": 247,
      "outputs": [
        {
          "output_type": "execute_result",
          "data": {
            "text/plain": [
              "           age  Fam members    Income  Mortgage  Loan  \\\n",
              "0     0.045455     1.000000  0.524364  0.000000   0.0   \n",
              "1     0.500000     0.666667  0.402223  0.000000   0.0   \n",
              "2     0.363636     0.000000  0.003094  0.000000   0.0   \n",
              "3     0.272727     0.000000  0.753775  0.000000   0.0   \n",
              "4     0.272727     1.000000  0.496193  0.000000   0.0   \n",
              "...        ...          ...       ...       ...   ...   \n",
              "4995  0.136364     0.000000  0.456942  0.000000   0.0   \n",
              "4996  0.159091     1.000000  0.116306  0.133858   0.0   \n",
              "4997  0.909091     0.333333  0.282701  0.000000   0.0   \n",
              "4998  0.954545     0.666667  0.524364  0.000000   0.0   \n",
              "4999  0.113636     0.666667  0.694953  0.000000   0.0   \n",
              "\n",
              "      Education_Post Graduate  Education_Under Graduate  Fixed Deposit_no  \\\n",
              "0                         0.0                       1.0               1.0   \n",
              "1                         0.0                       1.0               1.0   \n",
              "2                         0.0                       1.0               1.0   \n",
              "3                         0.0                       0.0               1.0   \n",
              "4                         0.0                       0.0               1.0   \n",
              "...                       ...                       ...               ...   \n",
              "4995                      1.0                       0.0               1.0   \n",
              "4996                      0.0                       1.0               1.0   \n",
              "4997                      1.0                       0.0               1.0   \n",
              "4998                      0.0                       0.0               1.0   \n",
              "4999                      0.0                       1.0               1.0   \n",
              "\n",
              "      Fixed Deposit_yes  Demat_no  Net Banking_no  Net Banking_yes  \n",
              "0                   0.0       0.0             1.0              0.0  \n",
              "1                   0.0       0.0             1.0              0.0  \n",
              "2                   0.0       1.0             1.0              0.0  \n",
              "3                   0.0       1.0             1.0              0.0  \n",
              "4                   0.0       1.0             1.0              0.0  \n",
              "...                 ...       ...             ...              ...  \n",
              "4995                0.0       1.0             0.0              1.0  \n",
              "4996                0.0       1.0             0.0              1.0  \n",
              "4997                0.0       1.0             1.0              0.0  \n",
              "4998                0.0       1.0             0.0              1.0  \n",
              "4999                0.0       1.0             0.0              1.0  \n",
              "\n",
              "[5000 rows x 12 columns]"
            ],
            "text/html": [
              "\n",
              "  <div id=\"df-bc8261bb-cbb0-4647-b135-5a4df7bbd878\">\n",
              "    <div class=\"colab-df-container\">\n",
              "      <div>\n",
              "<style scoped>\n",
              "    .dataframe tbody tr th:only-of-type {\n",
              "        vertical-align: middle;\n",
              "    }\n",
              "\n",
              "    .dataframe tbody tr th {\n",
              "        vertical-align: top;\n",
              "    }\n",
              "\n",
              "    .dataframe thead th {\n",
              "        text-align: right;\n",
              "    }\n",
              "</style>\n",
              "<table border=\"1\" class=\"dataframe\">\n",
              "  <thead>\n",
              "    <tr style=\"text-align: right;\">\n",
              "      <th></th>\n",
              "      <th>age</th>\n",
              "      <th>Fam members</th>\n",
              "      <th>Income</th>\n",
              "      <th>Mortgage</th>\n",
              "      <th>Loan</th>\n",
              "      <th>Education_Post Graduate</th>\n",
              "      <th>Education_Under Graduate</th>\n",
              "      <th>Fixed Deposit_no</th>\n",
              "      <th>Fixed Deposit_yes</th>\n",
              "      <th>Demat_no</th>\n",
              "      <th>Net Banking_no</th>\n",
              "      <th>Net Banking_yes</th>\n",
              "    </tr>\n",
              "  </thead>\n",
              "  <tbody>\n",
              "    <tr>\n",
              "      <th>0</th>\n",
              "      <td>0.045455</td>\n",
              "      <td>1.000000</td>\n",
              "      <td>0.524364</td>\n",
              "      <td>0.000000</td>\n",
              "      <td>0.0</td>\n",
              "      <td>0.0</td>\n",
              "      <td>1.0</td>\n",
              "      <td>1.0</td>\n",
              "      <td>0.0</td>\n",
              "      <td>0.0</td>\n",
              "      <td>1.0</td>\n",
              "      <td>0.0</td>\n",
              "    </tr>\n",
              "    <tr>\n",
              "      <th>1</th>\n",
              "      <td>0.500000</td>\n",
              "      <td>0.666667</td>\n",
              "      <td>0.402223</td>\n",
              "      <td>0.000000</td>\n",
              "      <td>0.0</td>\n",
              "      <td>0.0</td>\n",
              "      <td>1.0</td>\n",
              "      <td>1.0</td>\n",
              "      <td>0.0</td>\n",
              "      <td>0.0</td>\n",
              "      <td>1.0</td>\n",
              "      <td>0.0</td>\n",
              "    </tr>\n",
              "    <tr>\n",
              "      <th>2</th>\n",
              "      <td>0.363636</td>\n",
              "      <td>0.000000</td>\n",
              "      <td>0.003094</td>\n",
              "      <td>0.000000</td>\n",
              "      <td>0.0</td>\n",
              "      <td>0.0</td>\n",
              "      <td>1.0</td>\n",
              "      <td>1.0</td>\n",
              "      <td>0.0</td>\n",
              "      <td>1.0</td>\n",
              "      <td>1.0</td>\n",
              "      <td>0.0</td>\n",
              "    </tr>\n",
              "    <tr>\n",
              "      <th>3</th>\n",
              "      <td>0.272727</td>\n",
              "      <td>0.000000</td>\n",
              "      <td>0.753775</td>\n",
              "      <td>0.000000</td>\n",
              "      <td>0.0</td>\n",
              "      <td>0.0</td>\n",
              "      <td>0.0</td>\n",
              "      <td>1.0</td>\n",
              "      <td>0.0</td>\n",
              "      <td>1.0</td>\n",
              "      <td>1.0</td>\n",
              "      <td>0.0</td>\n",
              "    </tr>\n",
              "    <tr>\n",
              "      <th>4</th>\n",
              "      <td>0.272727</td>\n",
              "      <td>1.000000</td>\n",
              "      <td>0.496193</td>\n",
              "      <td>0.000000</td>\n",
              "      <td>0.0</td>\n",
              "      <td>0.0</td>\n",
              "      <td>0.0</td>\n",
              "      <td>1.0</td>\n",
              "      <td>0.0</td>\n",
              "      <td>1.0</td>\n",
              "      <td>1.0</td>\n",
              "      <td>0.0</td>\n",
              "    </tr>\n",
              "    <tr>\n",
              "      <th>...</th>\n",
              "      <td>...</td>\n",
              "      <td>...</td>\n",
              "      <td>...</td>\n",
              "      <td>...</td>\n",
              "      <td>...</td>\n",
              "      <td>...</td>\n",
              "      <td>...</td>\n",
              "      <td>...</td>\n",
              "      <td>...</td>\n",
              "      <td>...</td>\n",
              "      <td>...</td>\n",
              "      <td>...</td>\n",
              "    </tr>\n",
              "    <tr>\n",
              "      <th>4995</th>\n",
              "      <td>0.136364</td>\n",
              "      <td>0.000000</td>\n",
              "      <td>0.456942</td>\n",
              "      <td>0.000000</td>\n",
              "      <td>0.0</td>\n",
              "      <td>1.0</td>\n",
              "      <td>0.0</td>\n",
              "      <td>1.0</td>\n",
              "      <td>0.0</td>\n",
              "      <td>1.0</td>\n",
              "      <td>0.0</td>\n",
              "      <td>1.0</td>\n",
              "    </tr>\n",
              "    <tr>\n",
              "      <th>4996</th>\n",
              "      <td>0.159091</td>\n",
              "      <td>1.000000</td>\n",
              "      <td>0.116306</td>\n",
              "      <td>0.133858</td>\n",
              "      <td>0.0</td>\n",
              "      <td>0.0</td>\n",
              "      <td>1.0</td>\n",
              "      <td>1.0</td>\n",
              "      <td>0.0</td>\n",
              "      <td>1.0</td>\n",
              "      <td>0.0</td>\n",
              "      <td>1.0</td>\n",
              "    </tr>\n",
              "    <tr>\n",
              "      <th>4997</th>\n",
              "      <td>0.909091</td>\n",
              "      <td>0.333333</td>\n",
              "      <td>0.282701</td>\n",
              "      <td>0.000000</td>\n",
              "      <td>0.0</td>\n",
              "      <td>1.0</td>\n",
              "      <td>0.0</td>\n",
              "      <td>1.0</td>\n",
              "      <td>0.0</td>\n",
              "      <td>1.0</td>\n",
              "      <td>1.0</td>\n",
              "      <td>0.0</td>\n",
              "    </tr>\n",
              "    <tr>\n",
              "      <th>4998</th>\n",
              "      <td>0.954545</td>\n",
              "      <td>0.666667</td>\n",
              "      <td>0.524364</td>\n",
              "      <td>0.000000</td>\n",
              "      <td>0.0</td>\n",
              "      <td>0.0</td>\n",
              "      <td>0.0</td>\n",
              "      <td>1.0</td>\n",
              "      <td>0.0</td>\n",
              "      <td>1.0</td>\n",
              "      <td>0.0</td>\n",
              "      <td>1.0</td>\n",
              "    </tr>\n",
              "    <tr>\n",
              "      <th>4999</th>\n",
              "      <td>0.113636</td>\n",
              "      <td>0.666667</td>\n",
              "      <td>0.694953</td>\n",
              "      <td>0.000000</td>\n",
              "      <td>0.0</td>\n",
              "      <td>0.0</td>\n",
              "      <td>1.0</td>\n",
              "      <td>1.0</td>\n",
              "      <td>0.0</td>\n",
              "      <td>1.0</td>\n",
              "      <td>0.0</td>\n",
              "      <td>1.0</td>\n",
              "    </tr>\n",
              "  </tbody>\n",
              "</table>\n",
              "<p>5000 rows × 12 columns</p>\n",
              "</div>\n",
              "      <button class=\"colab-df-convert\" onclick=\"convertToInteractive('df-bc8261bb-cbb0-4647-b135-5a4df7bbd878')\"\n",
              "              title=\"Convert this dataframe to an interactive table.\"\n",
              "              style=\"display:none;\">\n",
              "        \n",
              "  <svg xmlns=\"http://www.w3.org/2000/svg\" height=\"24px\"viewBox=\"0 0 24 24\"\n",
              "       width=\"24px\">\n",
              "    <path d=\"M0 0h24v24H0V0z\" fill=\"none\"/>\n",
              "    <path d=\"M18.56 5.44l.94 2.06.94-2.06 2.06-.94-2.06-.94-.94-2.06-.94 2.06-2.06.94zm-11 1L8.5 8.5l.94-2.06 2.06-.94-2.06-.94L8.5 2.5l-.94 2.06-2.06.94zm10 10l.94 2.06.94-2.06 2.06-.94-2.06-.94-.94-2.06-.94 2.06-2.06.94z\"/><path d=\"M17.41 7.96l-1.37-1.37c-.4-.4-.92-.59-1.43-.59-.52 0-1.04.2-1.43.59L10.3 9.45l-7.72 7.72c-.78.78-.78 2.05 0 2.83L4 21.41c.39.39.9.59 1.41.59.51 0 1.02-.2 1.41-.59l7.78-7.78 2.81-2.81c.8-.78.8-2.07 0-2.86zM5.41 20L4 18.59l7.72-7.72 1.47 1.35L5.41 20z\"/>\n",
              "  </svg>\n",
              "      </button>\n",
              "      \n",
              "  <style>\n",
              "    .colab-df-container {\n",
              "      display:flex;\n",
              "      flex-wrap:wrap;\n",
              "      gap: 12px;\n",
              "    }\n",
              "\n",
              "    .colab-df-convert {\n",
              "      background-color: #E8F0FE;\n",
              "      border: none;\n",
              "      border-radius: 50%;\n",
              "      cursor: pointer;\n",
              "      display: none;\n",
              "      fill: #1967D2;\n",
              "      height: 32px;\n",
              "      padding: 0 0 0 0;\n",
              "      width: 32px;\n",
              "    }\n",
              "\n",
              "    .colab-df-convert:hover {\n",
              "      background-color: #E2EBFA;\n",
              "      box-shadow: 0px 1px 2px rgba(60, 64, 67, 0.3), 0px 1px 3px 1px rgba(60, 64, 67, 0.15);\n",
              "      fill: #174EA6;\n",
              "    }\n",
              "\n",
              "    [theme=dark] .colab-df-convert {\n",
              "      background-color: #3B4455;\n",
              "      fill: #D2E3FC;\n",
              "    }\n",
              "\n",
              "    [theme=dark] .colab-df-convert:hover {\n",
              "      background-color: #434B5C;\n",
              "      box-shadow: 0px 1px 3px 1px rgba(0, 0, 0, 0.15);\n",
              "      filter: drop-shadow(0px 1px 2px rgba(0, 0, 0, 0.3));\n",
              "      fill: #FFFFFF;\n",
              "    }\n",
              "  </style>\n",
              "\n",
              "      <script>\n",
              "        const buttonEl =\n",
              "          document.querySelector('#df-bc8261bb-cbb0-4647-b135-5a4df7bbd878 button.colab-df-convert');\n",
              "        buttonEl.style.display =\n",
              "          google.colab.kernel.accessAllowed ? 'block' : 'none';\n",
              "\n",
              "        async function convertToInteractive(key) {\n",
              "          const element = document.querySelector('#df-bc8261bb-cbb0-4647-b135-5a4df7bbd878');\n",
              "          const dataTable =\n",
              "            await google.colab.kernel.invokeFunction('convertToInteractive',\n",
              "                                                     [key], {});\n",
              "          if (!dataTable) return;\n",
              "\n",
              "          const docLinkHtml = 'Like what you see? Visit the ' +\n",
              "            '<a target=\"_blank\" href=https://colab.research.google.com/notebooks/data_table.ipynb>data table notebook</a>'\n",
              "            + ' to learn more about interactive tables.';\n",
              "          element.innerHTML = '';\n",
              "          dataTable['output_type'] = 'display_data';\n",
              "          await google.colab.output.renderOutput(dataTable, element);\n",
              "          const docLink = document.createElement('div');\n",
              "          docLink.innerHTML = docLinkHtml;\n",
              "          element.appendChild(docLink);\n",
              "        }\n",
              "      </script>\n",
              "    </div>\n",
              "  </div>\n",
              "  "
            ]
          },
          "metadata": {},
          "execution_count": 247
        }
      ]
    },
    {
      "cell_type": "code",
      "source": [
        "X = scaled.drop('Loan',1) \n",
        "y = scaled.Loan"
      ],
      "metadata": {
        "id": "XChfSHE9BJ0a",
        "colab": {
          "base_uri": "https://localhost:8080/"
        },
        "outputId": "58351d80-5eb1-4c56-8d00-3adbe4c9f26a"
      },
      "execution_count": 248,
      "outputs": [
        {
          "output_type": "stream",
          "name": "stderr",
          "text": [
            "/usr/local/lib/python3.7/dist-packages/ipykernel_launcher.py:1: FutureWarning: In a future version of pandas all arguments of DataFrame.drop except for the argument 'labels' will be keyword-only\n",
            "  \"\"\"Entry point for launching an IPython kernel.\n"
          ]
        }
      ]
    },
    {
      "cell_type": "code",
      "source": [
        "from sklearn.model_selection import train_test_split"
      ],
      "metadata": {
        "id": "g30eD-RgE1Dx"
      },
      "execution_count": 249,
      "outputs": []
    },
    {
      "cell_type": "code",
      "source": [
        "from sklearn.linear_model import LogisticRegression \n",
        "import sklearn.metrics as metrics\n"
      ],
      "metadata": {
        "id": "9m9CIMse38ne"
      },
      "execution_count": 250,
      "outputs": []
    },
    {
      "cell_type": "code",
      "source": [
        "x_train1, x_test1, y_train1, y_test1 = train_test_split(X,y ,test_size =0.2)"
      ],
      "metadata": {
        "id": "1ki93h9wJ0Vc"
      },
      "execution_count": 251,
      "outputs": []
    },
    {
      "cell_type": "code",
      "source": [
        "model1=LogisticRegression()"
      ],
      "metadata": {
        "id": "JVRirnzxKJ6R"
      },
      "execution_count": 252,
      "outputs": []
    },
    {
      "cell_type": "code",
      "source": [
        "model1.fit(x_train1,y_train1)"
      ],
      "metadata": {
        "colab": {
          "base_uri": "https://localhost:8080/"
        },
        "id": "Dg4wV9LdKJ88",
        "outputId": "598b8f5d-a091-466a-82d4-a8a981de69cc"
      },
      "execution_count": 253,
      "outputs": [
        {
          "output_type": "execute_result",
          "data": {
            "text/plain": [
              "LogisticRegression()"
            ]
          },
          "metadata": {},
          "execution_count": 253
        }
      ]
    },
    {
      "cell_type": "markdown",
      "source": [
        "Without Balancing Data "
      ],
      "metadata": {
        "id": "T75Qg6EMS0_o"
      }
    },
    {
      "cell_type": "code",
      "source": [
        "pred_cv1 = model1.predict(x_test1)\n",
        "accuracy_score(y_test1,pred_cv1)"
      ],
      "metadata": {
        "colab": {
          "base_uri": "https://localhost:8080/"
        },
        "id": "f3LK6YUQKJ_1",
        "outputId": "b1d3e9e9-e9d1-4a42-83c7-a718ab69fdc6"
      },
      "execution_count": 254,
      "outputs": [
        {
          "output_type": "execute_result",
          "data": {
            "text/plain": [
              "0.961"
            ]
          },
          "metadata": {},
          "execution_count": 254
        }
      ]
    },
    {
      "cell_type": "markdown",
      "source": [
        "Poor Recall anf F1 score for minority class"
      ],
      "metadata": {
        "id": "Kx7lCJyYS5kH"
      }
    },
    {
      "cell_type": "code",
      "source": [
        "print(classification_report(y_test1, pred_cv1, labels=[0,1]))"
      ],
      "metadata": {
        "colab": {
          "base_uri": "https://localhost:8080/"
        },
        "id": "hKB8E2jGLAts",
        "outputId": "7d33877b-d80a-4116-e534-4e5290804d9a"
      },
      "execution_count": 255,
      "outputs": [
        {
          "output_type": "stream",
          "name": "stdout",
          "text": [
            "              precision    recall  f1-score   support\n",
            "\n",
            "           0       0.96      0.99      0.98       907\n",
            "           1       0.92      0.63      0.75        93\n",
            "\n",
            "    accuracy                           0.96      1000\n",
            "   macro avg       0.94      0.81      0.87      1000\n",
            "weighted avg       0.96      0.96      0.96      1000\n",
            "\n"
          ]
        }
      ]
    },
    {
      "cell_type": "markdown",
      "source": [
        "# **Handling imbalance data with smoteen**"
      ],
      "metadata": {
        "id": "ZLyx-EoKTBHj"
      }
    },
    {
      "cell_type": "code",
      "source": [
        "from imblearn.combine import SMOTEENN\n"
      ],
      "metadata": {
        "id": "5gpoN45MEzsq"
      },
      "execution_count": 256,
      "outputs": []
    },
    {
      "cell_type": "code",
      "source": [
        "sm = SMOTEENN()\n",
        "X_resampled, y_resampled = sm.fit_resample(X,y)"
      ],
      "metadata": {
        "id": "TxdsyvVWE0y9"
      },
      "execution_count": 257,
      "outputs": []
    },
    {
      "cell_type": "code",
      "source": [
        "X_resampled.shape\n"
      ],
      "metadata": {
        "id": "ndORpSWJE07p",
        "colab": {
          "base_uri": "https://localhost:8080/"
        },
        "outputId": "5382616b-bbde-412d-c7b4-acc7155bf213"
      },
      "execution_count": 258,
      "outputs": [
        {
          "output_type": "execute_result",
          "data": {
            "text/plain": [
              "(8581, 11)"
            ]
          },
          "metadata": {},
          "execution_count": 258
        }
      ]
    },
    {
      "cell_type": "markdown",
      "source": [
        "**After balancing Count of both classes**"
      ],
      "metadata": {
        "id": "BJ768diSTHEF"
      }
    },
    {
      "cell_type": "code",
      "source": [
        "y_resampled.value_counts().plot(kind='barh', figsize=(8, 6))\n",
        "plt.xlabel(\"Count\", labelpad=14)\n",
        "plt.ylabel(\"Target Variable\", labelpad=14)\n",
        "plt.title(\"Count of TARGET Variable per category\",y=1.02);"
      ],
      "metadata": {
        "colab": {
          "base_uri": "https://localhost:8080/",
          "height": 426
        },
        "id": "qFa0AWfvXBUT",
        "outputId": "7eacfc17-8147-4d73-a895-eccd006e39b3"
      },
      "execution_count": 259,
      "outputs": [
        {
          "output_type": "display_data",
          "data": {
            "text/plain": [
              "<Figure size 576x432 with 1 Axes>"
            ],
            "image/png": "[encoded data removed]"
          },
          "metadata": {}
        }
      ]
    },
    {
      "cell_type": "markdown",
      "source": [
        "Spliting Data for model training"
      ],
      "metadata": {
        "id": "y41PjBxrTSJZ"
      }
    },
    {
      "cell_type": "code",
      "source": [
        "x_train, x_test, y_train, y_test = train_test_split(X_resampled,y_resampled, test_size =0.2)"
      ],
      "metadata": {
        "id": "CJsCdqf_5XaB"
      },
      "execution_count": 260,
      "outputs": []
    },
    {
      "cell_type": "markdown",
      "source": [
        "# **Logistic Regression**"
      ],
      "metadata": {
        "id": "hipP3FoQTWYd"
      }
    },
    {
      "cell_type": "code",
      "source": [
        "model = LogisticRegression() \n",
        "model.fit(x_train, y_train)"
      ],
      "metadata": {
        "colab": {
          "base_uri": "https://localhost:8080/"
        },
        "id": "s88e2xHY38rG",
        "outputId": "0b84d84e-f2d9-4e5d-854a-a333eb1d130d"
      },
      "execution_count": 261,
      "outputs": [
        {
          "output_type": "execute_result",
          "data": {
            "text/plain": [
              "LogisticRegression()"
            ]
          },
          "metadata": {},
          "execution_count": 261
        }
      ]
    },
    {
      "cell_type": "code",
      "source": [
        "pred_cv = model.predict(x_test)\n"
      ],
      "metadata": {
        "id": "JjCH6kNM38tA"
      },
      "execution_count": 262,
      "outputs": []
    },
    {
      "cell_type": "code",
      "source": [
        "accuracy_score(y_test,pred_cv)\n"
      ],
      "metadata": {
        "colab": {
          "base_uri": "https://localhost:8080/"
        },
        "id": "iv29ghVe38wE",
        "outputId": "edb18a36-3337-4088-ffb5-dd99accf61ea"
      },
      "execution_count": 263,
      "outputs": [
        {
          "output_type": "execute_result",
          "data": {
            "text/plain": [
              "0.9411764705882353"
            ]
          },
          "metadata": {},
          "execution_count": 263
        }
      ]
    },
    {
      "cell_type": "code",
      "source": [
        "print(classification_report(y_test, pred_cv, labels=[0,1]))"
      ],
      "metadata": {
        "colab": {
          "base_uri": "https://localhost:8080/"
        },
        "id": "vHruOv1MLhGq",
        "outputId": "3984009f-0ec9-408e-bc4f-0cbe9a1a7c4d"
      },
      "execution_count": 264,
      "outputs": [
        {
          "output_type": "stream",
          "name": "stdout",
          "text": [
            "              precision    recall  f1-score   support\n",
            "\n",
            "           0       0.96      0.92      0.94       830\n",
            "           1       0.93      0.96      0.94       887\n",
            "\n",
            "    accuracy                           0.94      1717\n",
            "   macro avg       0.94      0.94      0.94      1717\n",
            "weighted avg       0.94      0.94      0.94      1717\n",
            "\n"
          ]
        }
      ]
    },
    {
      "cell_type": "code",
      "source": [
        "scaled.to_csv('tee.csv')"
      ],
      "metadata": {
        "id": "TkAK0ZzgB0cS"
      },
      "execution_count": 265,
      "outputs": []
    },
    {
      "cell_type": "markdown",
      "source": [
        "# **Light Gradient Boosting Machine Classifier**"
      ],
      "metadata": {
        "id": "oKb96PZkTblH"
      }
    },
    {
      "cell_type": "code",
      "source": [
        "import lightgbm as lgb\n",
        "from lightgbm import LGBMClassifier\n"
      ],
      "metadata": {
        "id": "UHZ4zogBCfp6"
      },
      "execution_count": 266,
      "outputs": []
    },
    {
      "cell_type": "code",
      "source": [
        "model1 = LGBMClassifier()\n",
        "model1.fit(x_train, y_train)"
      ],
      "metadata": {
        "colab": {
          "base_uri": "https://localhost:8080/"
        },
        "id": "JITefDcSDzv9",
        "outputId": "7bcaec61-e559-4aa6-b61f-c9ced491a007"
      },
      "execution_count": 267,
      "outputs": [
        {
          "output_type": "execute_result",
          "data": {
            "text/plain": [
              "LGBMClassifier()"
            ]
          },
          "metadata": {},
          "execution_count": 267
        }
      ]
    },
    {
      "cell_type": "code",
      "source": [],
      "metadata": {
        "id": "roD8p2XVWkVr"
      },
      "execution_count": 267,
      "outputs": []
    },
    {
      "cell_type": "code",
      "source": [],
      "metadata": {
        "id": "l9bEYyTkWlvs"
      },
      "execution_count": 267,
      "outputs": []
    },
    {
      "cell_type": "code",
      "source": [
        "pred_cv = model1.predict(x_test)\n"
      ],
      "metadata": {
        "id": "2blll24nEBhg"
      },
      "execution_count": 268,
      "outputs": []
    },
    {
      "cell_type": "code",
      "source": [
        "accuracy_score(y_test,pred_cv)\n"
      ],
      "metadata": {
        "colab": {
          "base_uri": "https://localhost:8080/"
        },
        "id": "Q6u8ZnqgH_7I",
        "outputId": "e5d1fc06-ca5e-4097-9299-3a54b1d2bc54"
      },
      "execution_count": 269,
      "outputs": [
        {
          "output_type": "execute_result",
          "data": {
            "text/plain": [
              "0.994175888177053"
            ]
          },
          "metadata": {},
          "execution_count": 269
        }
      ]
    },
    {
      "cell_type": "code",
      "source": [
        "from sklearn.metrics import classification_report, accuracy_score, confusion_matrix, roc_auc_score, roc_curve\n"
      ],
      "metadata": {
        "id": "NpFMCe1RMD5G"
      },
      "execution_count": 270,
      "outputs": []
    },
    {
      "cell_type": "code",
      "source": [
        "print(classification_report(y_test, pred_cv, labels=[0,1]))"
      ],
      "metadata": {
        "colab": {
          "base_uri": "https://localhost:8080/"
        },
        "id": "_ADK1WXqELSS",
        "outputId": "edc7d2fc-e065-41d8-f7bc-87bc2e4eeecc"
      },
      "execution_count": 271,
      "outputs": [
        {
          "output_type": "stream",
          "name": "stdout",
          "text": [
            "              precision    recall  f1-score   support\n",
            "\n",
            "           0       0.99      1.00      0.99       830\n",
            "           1       1.00      0.99      0.99       887\n",
            "\n",
            "    accuracy                           0.99      1717\n",
            "   macro avg       0.99      0.99      0.99      1717\n",
            "weighted avg       0.99      0.99      0.99      1717\n",
            "\n"
          ]
        }
      ]
    },
    {
      "cell_type": "code",
      "source": [
        "from sklearn.metrics import roc_auc_score\n",
        "score = roc_auc_score(y_test, pred_cv)\n",
        "print(f\"ROC AUC: {score:.4f}\")"
      ],
      "metadata": {
        "colab": {
          "base_uri": "https://localhost:8080/"
        },
        "id": "lpctS8AaNhFj",
        "outputId": "7719d1c4-98c5-4298-fefd-98eb78b7456b"
      },
      "execution_count": 272,
      "outputs": [
        {
          "output_type": "stream",
          "name": "stdout",
          "text": [
            "ROC AUC: 0.9942\n"
          ]
        }
      ]
    },
    {
      "cell_type": "code",
      "source": [
        "from sklearn import metrics"
      ],
      "metadata": {
        "id": "tfZTAIdTN5G5"
      },
      "execution_count": 273,
      "outputs": []
    },
    {
      "cell_type": "code",
      "source": [],
      "metadata": {
        "id": "FlJvk7F1XXhJ"
      },
      "execution_count": 273,
      "outputs": []
    },
    {
      "cell_type": "markdown",
      "source": [
        "**ROC AUC Curve**"
      ],
      "metadata": {
        "id": "tWvF-fdOUXR3"
      }
    },
    {
      "cell_type": "code",
      "source": [
        "fpr, tpr, threshold = metrics.roc_curve(y_test, pred_cv)\n",
        "roc_auc = metrics.auc(fpr, tpr)\n",
        "\n",
        "# method I: plt\n",
        "plt.title('Receiver Operating Characteristic')\n",
        "plt.plot(fpr, tpr, 'b', label = 'AUC = %0.6f' % roc_auc)\n",
        "plt.legend(loc = 'lower right')\n",
        "plt.plot([0, 1], [0, 1],'r--')\n",
        "plt.xlim([0, 1])\n",
        "plt.ylim([0, 1])\n",
        "plt.ylabel('True Positive Rate')\n",
        "plt.xlabel('False Positive Rate')\n",
        "plt.show()\n",
        "\n"
      ],
      "metadata": {
        "colab": {
          "base_uri": "https://localhost:8080/",
          "height": 533
        },
        "id": "bspXgCQYN7ug",
        "outputId": "f7bc0c5b-a9c9-43cc-88ee-5b46651d6099"
      },
      "execution_count": 274,
      "outputs": [
        {
          "output_type": "display_data",
          "data": {
            "text/plain": [
              "<Figure size 842.4x595.44 with 1 Axes>"
            ],
            "image/png": "[encoded data removed]"
          },
          "metadata": {}
        }
      ]
    },
    {
      "cell_type": "code",
      "source": [
        "def plot_cm(labels, predictions, p=0.5):\n",
        "  cm = confusion_matrix(labels, predictions > p)\n",
        "  plt.figure(figsize=(5,5))\n",
        "  sns.heatmap(cm, annot=True, fmt=\"d\")\n",
        "  plt.title('Confusion matrix @{:.2f}'.format(p))\n",
        "  plt.ylabel('Actual label')\n",
        "  plt.xlabel('Predicted label')\n",
        "\n",
        "  print('True Negatives: ', cm[0][0])\n",
        "  print('False Positives: ', cm[0][1])\n",
        "  print('False Negatives: ', cm[1][0])\n",
        "  print('True Positives: ', cm[1][1])\n",
        "\n"
      ],
      "metadata": {
        "id": "_bfBEeb1Z5cd"
      },
      "execution_count": 275,
      "outputs": []
    },
    {
      "cell_type": "markdown",
      "source": [
        "**Confusion Matrix**"
      ],
      "metadata": {
        "id": "ZkVs8I46UbRX"
      }
    },
    {
      "cell_type": "code",
      "source": [
        "plot_cm(y_test, pred_cv)\n"
      ],
      "metadata": {
        "colab": {
          "base_uri": "https://localhost:8080/",
          "height": 424
        },
        "id": "E_Ly19VdbKiz",
        "outputId": "4fcce4d9-eed9-4185-843a-e25d9af9e790"
      },
      "execution_count": 276,
      "outputs": [
        {
          "output_type": "stream",
          "name": "stdout",
          "text": [
            "True Negatives:  826\n",
            "False Positives:  4\n",
            "False Negatives:  6\n",
            "True Positives:  881\n"
          ]
        },
        {
          "output_type": "display_data",
          "data": {
            "text/plain": [
              "<Figure size 360x360 with 2 Axes>"
            ],
            "image/png": "[encoded data removed]"
          },
          "metadata": {}
        }
      ]
    },
    {
      "cell_type": "code",
      "source": [
        "import statistics\n"
      ],
      "metadata": {
        "id": "mRlqfStkWTD3"
      },
      "execution_count": 304,
      "outputs": []
    },
    {
      "cell_type": "code",
      "source": [
        "cv = StratifiedKFold(n_splits=5,shuffle=False)\n"
      ],
      "metadata": {
        "id": "VDCGShpLfCII"
      },
      "execution_count": 277,
      "outputs": []
    },
    {
      "cell_type": "markdown",
      "source": [
        "# **ROC Curve with Cross-Validation**"
      ],
      "metadata": {
        "id": "M9StO6k1aN0w"
      }
    },
    {
      "cell_type": "markdown",
      "source": [
        "**This roughly shows how the classifier output is affected by changes in the training data, and how different the splits generated by K-fold cross-validation are from one another.**"
      ],
      "metadata": {
        "id": "I1-ZayT0aSs_"
      }
    },
    {
      "cell_type": "code",
      "source": [
        "fig1 = plt.figure(figsize=[12,12])\n",
        "ax1 = fig1.add_subplot(111,aspect = 'equal')\n",
        "ax1.add_patch(\n",
        "    patches.Arrow(0.45,0.5,-0.25,0.25,width=0.3,color='green',alpha = 0.5)\n",
        "    )\n",
        "ax1.add_patch(\n",
        "    patches.Arrow(0.5,0.45,0.25,-0.25,width=0.3,color='red',alpha = 0.5)\n",
        "    )\n",
        "\n",
        "tprs = []\n",
        "aucs = []\n",
        "mean_fpr = np.linspace(0,1,100)\n",
        "i = 1\n",
        "for train,test in cv.split(X_resampled,y_resampled):\n",
        "    prediction = model1.fit(x_train,y_train).predict_proba(x_test)\n",
        "    fpr, tpr, t = roc_curve(y_test, prediction[:, 1])\n",
        "    tprs.append(interp(mean_fpr, fpr, tpr))\n",
        "    roc_auc = auc(fpr, tpr)\n",
        "    aucs.append(roc_auc)\n",
        "    plt.plot(fpr, tpr, lw=2, alpha=0.3, label='ROC fold %d (AUC = %0.6f)' % (i, roc_auc))\n",
        "    i= i+1\n",
        "\n",
        "plt.plot([0,1],[0,1],linestyle = '--',lw = 2,color = 'black')\n",
        "mean_tpr = np.mean(tprs, axis=0)\n",
        "mean_auc = auc(mean_fpr, mean_tpr)\n",
        "plt.plot(mean_fpr, mean_tpr, color='blue',\n",
        "         label=r'Mean ROC (AUC = %0.6f )' % (mean_auc),lw=2, alpha=1)\n",
        "\n",
        "plt.xlabel('False Positive Rate')\n",
        "plt.ylabel('True Positive Rate')\n",
        "plt.title('ROC')\n",
        "plt.legend(loc=\"lower right\")\n",
        "plt.text(0.32,0.7,'More accurate area',fontsize = 12)\n",
        "plt.text(0.63,0.4,'Less accurate area',fontsize = 12)\n",
        "plt.show()"
      ],
      "metadata": {
        "id": "xWiajdJFCyxb",
        "colab": {
          "base_uri": "https://localhost:8080/",
          "height": 843
        },
        "outputId": "6645131c-895c-4ea7-825b-853e91e4ac33"
      },
      "execution_count": 278,
      "outputs": [
        {
          "output_type": "stream",
          "name": "stderr",
          "text": [
            "/usr/local/lib/python3.7/dist-packages/ipykernel_launcher.py:17: DeprecationWarning: scipy.interp is deprecated and will be removed in SciPy 2.0.0, use numpy.interp instead\n",
            "/usr/local/lib/python3.7/dist-packages/ipykernel_launcher.py:17: DeprecationWarning: scipy.interp is deprecated and will be removed in SciPy 2.0.0, use numpy.interp instead\n",
            "/usr/local/lib/python3.7/dist-packages/ipykernel_launcher.py:17: DeprecationWarning: scipy.interp is deprecated and will be removed in SciPy 2.0.0, use numpy.interp instead\n",
            "/usr/local/lib/python3.7/dist-packages/ipykernel_launcher.py:17: DeprecationWarning: scipy.interp is deprecated and will be removed in SciPy 2.0.0, use numpy.interp instead\n",
            "/usr/local/lib/python3.7/dist-packages/ipykernel_launcher.py:17: DeprecationWarning: scipy.interp is deprecated and will be removed in SciPy 2.0.0, use numpy.interp instead\n"
          ]
        },
        {
          "output_type": "display_data",
          "data": {
            "text/plain": [
              "<Figure size 864x864 with 1 Axes>"
            ],
            "image/png": "[encoded data removed]"
          },
          "metadata": {}
        }
      ]
    },
    {
      "cell_type": "markdown",
      "source": [
        "However, ROC curves can present an overly optimistic view of an algorithm’s performance if there is a large skew in the class distribution. […] Precision-Recall (PR) curves, often used in Information Retrieval , have been cited as an alternative to ROC curves for tasks with a large skew in the class distribution.\n",
        "\n",
        "— The Relationship Between Precision-Recall and ROC Curves, 2006. "
      ],
      "metadata": {
        "id": "6P0Gp-jYjl9C"
      }
    },
    {
      "cell_type": "markdown",
      "source": [
        "# **PR Curve**"
      ],
      "metadata": {
        "id": "jGvzUW67iwk1"
      }
    },
    {
      "cell_type": "code",
      "source": [
        "from sklearn.metrics import precision_recall_curve\n",
        "from sklearn.metrics import f1_score\n",
        "from sklearn.metrics import auc\n",
        "from matplotlib import pyplot\n",
        "# generate 2 class dataset\n",
        "\n",
        "model1.fit(x_train, y_train)\n",
        "# predict probabilities\n",
        "lr_probs = model1.predict_proba(x_test)\n",
        "# keep probabilities for the positive outcome only\n",
        "lr_probs = lr_probs[:, 1]\n",
        "# predict class values\n",
        "yhat = model1.predict(x_test)\n",
        "lr_precision, lr_recall, _ = precision_recall_curve(y_test, lr_probs)\n",
        "lr_f1, lr_auc = f1_score(y_test, yhat), auc(lr_recall, lr_precision)\n",
        "# summarize scores\n",
        "print('gbm: f1=%.3f auc=%.3f' % (lr_f1, lr_auc))\n",
        "# plot the precision-recall curves\n",
        "no_skill = len(y_test[y_test==1]) / len(y_test)\n",
        "pyplot.plot([0, 1], [no_skill, no_skill], linestyle='--', label='No Skill')\n",
        "pyplot.plot(lr_recall, lr_precision, marker='.', label='lgbm')\n",
        "# axis labels\n",
        "pyplot.xlabel('Recall')\n",
        "pyplot.ylabel('Precision')\n",
        "# show the legend\n",
        "pyplot.legend()\n",
        "# show the plot\n",
        "pyplot.show()"
      ],
      "metadata": {
        "id": "lVQz3F83jALq",
        "colab": {
          "base_uri": "https://localhost:8080/",
          "height": 534
        },
        "outputId": "70e1c38c-c846-4132-9d8f-74053eb3f708"
      },
      "execution_count": 320,
      "outputs": [
        {
          "output_type": "stream",
          "name": "stdout",
          "text": [
            "gbm: f1=0.994 auc=0.999\n"
          ]
        },
        {
          "output_type": "display_data",
          "data": {
            "text/plain": [
              "<Figure size 842.4x595.44 with 1 Axes>"
            ],
            "image/png": "[encoded data removed]"
          },
          "metadata": {}
        }
      ]
    },
    {
      "cell_type": "code",
      "source": [],
      "metadata": {
        "id": "5fih2IYOgZcw"
      },
      "execution_count": null,
      "outputs": []
    }
  ]
}